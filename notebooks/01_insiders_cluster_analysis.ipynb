{
 "cells": [
  {
   "cell_type": "markdown",
   "id": "e2df8641",
   "metadata": {},
   "source": [
    "# 0 Imports"
   ]
  },
  {
   "cell_type": "code",
   "execution_count": 1,
   "id": "165c5d4a",
   "metadata": {
    "ExecuteTime": {
     "end_time": "2022-11-05T23:28:56.743241Z",
     "start_time": "2022-11-05T23:28:55.422170Z"
    }
   },
   "outputs": [],
   "source": [
    "import numpy   as np\n",
    "import pandas  as pd\n",
    "import seaborn as sns\n",
    "\n",
    "import datetime\n",
    "import warnings\n",
    "import inflection\n",
    "\n",
    "from datetime             import datetime\n",
    "from matplotlib           import pyplot as plt\n",
    "from matplotlib.gridspec  import GridSpec\n",
    "from IPython.display      import Image\n",
    "from IPython.core.display import HTML\n",
    "\n",
    "warnings.filterwarnings( 'ignore' )"
   ]
  },
  {
   "cell_type": "markdown",
   "id": "7e3fd84d",
   "metadata": {},
   "source": [
    "## 0.1 Funções auxiliares"
   ]
  },
  {
   "cell_type": "code",
   "execution_count": 2,
   "id": "99889a1a",
   "metadata": {
    "ExecuteTime": {
     "end_time": "2022-11-05T23:28:56.773900Z",
     "start_time": "2022-11-05T23:28:56.750771Z"
    }
   },
   "outputs": [],
   "source": [
    "def jupyter_settings():\n",
    "    %matplotlib inline\n",
    "    \n",
    "    plt.style.use( 'bmh' )\n",
    "    plt.rcParams['figure.figsize'] = [18, 10]\n",
    "    plt.rcParams['font.size'] = 24\n",
    "    sns.set_palette(\"Reds\") \n",
    "    \n",
    "    display(HTML( '<style>.container { width:100% !important; }</style>'))\n",
    "    pd.options.display.max_columns = None\n",
    "    pd.options.display.max_rows = None\n",
    "    pd.set_option( 'display.expand_frame_repr', False )\n",
    "    \n",
    "    sns.set()"
   ]
  },
  {
   "cell_type": "code",
   "execution_count": 3,
   "id": "4895a24a",
   "metadata": {
    "ExecuteTime": {
     "end_time": "2022-11-05T23:28:56.805833Z",
     "start_time": "2022-11-05T23:28:56.775912Z"
    }
   },
   "outputs": [
    {
     "data": {
      "text/html": [
       "<style>.container { width:100% !important; }</style>"
      ],
      "text/plain": [
       "<IPython.core.display.HTML object>"
      ]
     },
     "metadata": {},
     "output_type": "display_data"
    }
   ],
   "source": [
    "jupyter_settings()"
   ]
  },
  {
   "cell_type": "markdown",
   "id": "9d5ccde4",
   "metadata": {},
   "source": [
    "## 0.2 Carregamento dos dados"
   ]
  },
  {
   "cell_type": "code",
   "execution_count": 4,
   "id": "54d26b8e",
   "metadata": {
    "ExecuteTime": {
     "end_time": "2022-11-05T23:28:57.527349Z",
     "start_time": "2022-11-05T23:28:56.808825Z"
    }
   },
   "outputs": [],
   "source": [
    "df_raw = pd.read_csv('../inputs/data.csv', encoding= 'unicode_escape')"
   ]
  },
  {
   "cell_type": "code",
   "execution_count": 5,
   "id": "ef17342e",
   "metadata": {
    "ExecuteTime": {
     "end_time": "2022-11-05T23:28:57.588529Z",
     "start_time": "2022-11-05T23:28:57.534457Z"
    }
   },
   "outputs": [
    {
     "data": {
      "text/html": [
       "<div>\n",
       "<style scoped>\n",
       "    .dataframe tbody tr th:only-of-type {\n",
       "        vertical-align: middle;\n",
       "    }\n",
       "\n",
       "    .dataframe tbody tr th {\n",
       "        vertical-align: top;\n",
       "    }\n",
       "\n",
       "    .dataframe thead th {\n",
       "        text-align: right;\n",
       "    }\n",
       "</style>\n",
       "<table border=\"1\" class=\"dataframe\">\n",
       "  <thead>\n",
       "    <tr style=\"text-align: right;\">\n",
       "      <th></th>\n",
       "      <th>InvoiceNo</th>\n",
       "      <th>StockCode</th>\n",
       "      <th>Description</th>\n",
       "      <th>Quantity</th>\n",
       "      <th>InvoiceDate</th>\n",
       "      <th>UnitPrice</th>\n",
       "      <th>CustomerID</th>\n",
       "      <th>Country</th>\n",
       "    </tr>\n",
       "  </thead>\n",
       "  <tbody>\n",
       "    <tr>\n",
       "      <th>355360</th>\n",
       "      <td>567928</td>\n",
       "      <td>22386</td>\n",
       "      <td>JUMBO BAG PINK POLKADOT</td>\n",
       "      <td>10</td>\n",
       "      <td>9/22/2011 17:31</td>\n",
       "      <td>2.08</td>\n",
       "      <td>12380.0</td>\n",
       "      <td>Belgium</td>\n",
       "    </tr>\n",
       "    <tr>\n",
       "      <th>403632</th>\n",
       "      <td>571653</td>\n",
       "      <td>22065</td>\n",
       "      <td>CHRISTMAS PUDDING TRINKET POT</td>\n",
       "      <td>48</td>\n",
       "      <td>10/18/2011 12:17</td>\n",
       "      <td>0.39</td>\n",
       "      <td>14298.0</td>\n",
       "      <td>United Kingdom</td>\n",
       "    </tr>\n",
       "    <tr>\n",
       "      <th>107024</th>\n",
       "      <td>545400</td>\n",
       "      <td>21166</td>\n",
       "      <td>COOK WITH WINE METAL SIGN</td>\n",
       "      <td>12</td>\n",
       "      <td>3/2/2011 12:03</td>\n",
       "      <td>2.08</td>\n",
       "      <td>17048.0</td>\n",
       "      <td>United Kingdom</td>\n",
       "    </tr>\n",
       "    <tr>\n",
       "      <th>331309</th>\n",
       "      <td>566008</td>\n",
       "      <td>23202</td>\n",
       "      <td>JUMBO BAG VINTAGE LEAF</td>\n",
       "      <td>2</td>\n",
       "      <td>9/8/2011 12:04</td>\n",
       "      <td>2.08</td>\n",
       "      <td>16426.0</td>\n",
       "      <td>United Kingdom</td>\n",
       "    </tr>\n",
       "    <tr>\n",
       "      <th>86820</th>\n",
       "      <td>543601</td>\n",
       "      <td>22626</td>\n",
       "      <td>BLACK KITCHEN SCALES</td>\n",
       "      <td>2</td>\n",
       "      <td>2/10/2011 13:27</td>\n",
       "      <td>8.50</td>\n",
       "      <td>14560.0</td>\n",
       "      <td>United Kingdom</td>\n",
       "    </tr>\n",
       "    <tr>\n",
       "      <th>317076</th>\n",
       "      <td>564757</td>\n",
       "      <td>21003</td>\n",
       "      <td>ROSE DU SUD CUSHION COVER</td>\n",
       "      <td>1</td>\n",
       "      <td>8/30/2011 10:36</td>\n",
       "      <td>5.79</td>\n",
       "      <td>NaN</td>\n",
       "      <td>United Kingdom</td>\n",
       "    </tr>\n",
       "    <tr>\n",
       "      <th>388462</th>\n",
       "      <td>570428</td>\n",
       "      <td>21313</td>\n",
       "      <td>GLASS HEART T-LIGHT HOLDER</td>\n",
       "      <td>12</td>\n",
       "      <td>10/10/2011 14:02</td>\n",
       "      <td>0.85</td>\n",
       "      <td>15553.0</td>\n",
       "      <td>United Kingdom</td>\n",
       "    </tr>\n",
       "    <tr>\n",
       "      <th>135811</th>\n",
       "      <td>547910</td>\n",
       "      <td>21430</td>\n",
       "      <td>SET/3 RED GINGHAM ROSE STORAGE BOX</td>\n",
       "      <td>1</td>\n",
       "      <td>3/28/2011 12:23</td>\n",
       "      <td>3.75</td>\n",
       "      <td>14159.0</td>\n",
       "      <td>United Kingdom</td>\n",
       "    </tr>\n",
       "    <tr>\n",
       "      <th>206775</th>\n",
       "      <td>554956</td>\n",
       "      <td>22646</td>\n",
       "      <td>CERAMIC STRAWBERRY CAKE MONEY BANK</td>\n",
       "      <td>2</td>\n",
       "      <td>5/27/2011 15:17</td>\n",
       "      <td>4.13</td>\n",
       "      <td>NaN</td>\n",
       "      <td>United Kingdom</td>\n",
       "    </tr>\n",
       "    <tr>\n",
       "      <th>181664</th>\n",
       "      <td>552508</td>\n",
       "      <td>22403</td>\n",
       "      <td>MAGNETS PACK OF 4 VINTAGE LABELS</td>\n",
       "      <td>1</td>\n",
       "      <td>5/9/2011 16:27</td>\n",
       "      <td>2.46</td>\n",
       "      <td>NaN</td>\n",
       "      <td>United Kingdom</td>\n",
       "    </tr>\n",
       "  </tbody>\n",
       "</table>\n",
       "</div>"
      ],
      "text/plain": [
       "       InvoiceNo StockCode                         Description  Quantity       InvoiceDate  UnitPrice  CustomerID         Country\n",
       "355360    567928     22386             JUMBO BAG PINK POLKADOT        10   9/22/2011 17:31       2.08     12380.0         Belgium\n",
       "403632    571653     22065      CHRISTMAS PUDDING TRINKET POT         48  10/18/2011 12:17       0.39     14298.0  United Kingdom\n",
       "107024    545400     21166          COOK WITH WINE METAL SIGN         12    3/2/2011 12:03       2.08     17048.0  United Kingdom\n",
       "331309    566008     23202              JUMBO BAG VINTAGE LEAF         2    9/8/2011 12:04       2.08     16426.0  United Kingdom\n",
       "86820     543601     22626                BLACK KITCHEN SCALES         2   2/10/2011 13:27       8.50     14560.0  United Kingdom\n",
       "317076    564757     21003           ROSE DU SUD CUSHION COVER         1   8/30/2011 10:36       5.79         NaN  United Kingdom\n",
       "388462    570428     21313         GLASS HEART T-LIGHT HOLDER         12  10/10/2011 14:02       0.85     15553.0  United Kingdom\n",
       "135811    547910     21430  SET/3 RED GINGHAM ROSE STORAGE BOX         1   3/28/2011 12:23       3.75     14159.0  United Kingdom\n",
       "206775    554956     22646  CERAMIC STRAWBERRY CAKE MONEY BANK         2   5/27/2011 15:17       4.13         NaN  United Kingdom\n",
       "181664    552508     22403   MAGNETS PACK OF 4 VINTAGE LABELS          1    5/9/2011 16:27       2.46         NaN  United Kingdom"
      ]
     },
     "execution_count": 5,
     "metadata": {},
     "output_type": "execute_result"
    }
   ],
   "source": [
    "df_raw.sample(10)"
   ]
  },
  {
   "cell_type": "markdown",
   "id": "02a89b76",
   "metadata": {},
   "source": [
    "# 1 Descrição dos dados"
   ]
  },
  {
   "cell_type": "code",
   "execution_count": 6,
   "id": "926e3d20",
   "metadata": {
    "ExecuteTime": {
     "end_time": "2022-11-05T23:28:57.619491Z",
     "start_time": "2022-11-05T23:28:57.591059Z"
    }
   },
   "outputs": [],
   "source": [
    "df1 = df_raw.copy()"
   ]
  },
  {
   "cell_type": "markdown",
   "id": "57092004",
   "metadata": {},
   "source": [
    "## 1.1 Renomeando colunas"
   ]
  },
  {
   "cell_type": "code",
   "execution_count": 7,
   "id": "f0a73175",
   "metadata": {
    "ExecuteTime": {
     "end_time": "2022-11-05T23:28:57.634476Z",
     "start_time": "2022-11-05T23:28:57.621504Z"
    }
   },
   "outputs": [],
   "source": [
    "snakecase = lambda x: inflection.underscore(x)\n",
    "\n",
    "cols_new = list(map(snakecase, df1.columns))\n",
    "\n",
    "#rename\n",
    "df1.columns = cols_new"
   ]
  },
  {
   "cell_type": "markdown",
   "id": "dffcf4e0",
   "metadata": {},
   "source": [
    "## 1.2 Dimensão dos dados"
   ]
  },
  {
   "cell_type": "code",
   "execution_count": 8,
   "id": "4798a4a8",
   "metadata": {
    "ExecuteTime": {
     "end_time": "2022-11-05T23:28:57.650427Z",
     "start_time": "2022-11-05T23:28:57.636464Z"
    }
   },
   "outputs": [
    {
     "name": "stdout",
     "output_type": "stream",
     "text": [
      "Núm de Linhas: 541909\n",
      "Núm de Colunas: 8\n"
     ]
    }
   ],
   "source": [
    "print('Núm de Linhas: {}'.format(df1.shape[0]))\n",
    "print('Núm de Colunas: {}'.format(df1.shape[1]))"
   ]
  },
  {
   "cell_type": "markdown",
   "id": "47c2fe5e",
   "metadata": {},
   "source": [
    "## 1.3 Tipo dos dados"
   ]
  },
  {
   "cell_type": "code",
   "execution_count": 9,
   "id": "5828a91e",
   "metadata": {
    "ExecuteTime": {
     "end_time": "2022-11-05T23:28:57.666385Z",
     "start_time": "2022-11-05T23:28:57.652423Z"
    }
   },
   "outputs": [
    {
     "data": {
      "text/plain": [
       "invoice_no       object\n",
       "stock_code       object\n",
       "description      object\n",
       "quantity          int64\n",
       "invoice_date     object\n",
       "unit_price      float64\n",
       "customer_id     float64\n",
       "country          object\n",
       "dtype: object"
      ]
     },
     "execution_count": 9,
     "metadata": {},
     "output_type": "execute_result"
    }
   ],
   "source": [
    "df1.dtypes"
   ]
  },
  {
   "cell_type": "markdown",
   "id": "2e1d2165",
   "metadata": {},
   "source": [
    "## 1.4 Checagem de valores nulos"
   ]
  },
  {
   "cell_type": "code",
   "execution_count": 10,
   "id": "12148441",
   "metadata": {
    "ExecuteTime": {
     "end_time": "2022-11-05T23:28:58.026908Z",
     "start_time": "2022-11-05T23:28:57.671375Z"
    }
   },
   "outputs": [
    {
     "data": {
      "text/plain": [
       "invoice_no           0\n",
       "stock_code           0\n",
       "description       1454\n",
       "quantity             0\n",
       "invoice_date         0\n",
       "unit_price           0\n",
       "customer_id     135080\n",
       "country              0\n",
       "dtype: int64"
      ]
     },
     "execution_count": 10,
     "metadata": {},
     "output_type": "execute_result"
    }
   ],
   "source": [
    "df1.isna().sum()"
   ]
  },
  {
   "cell_type": "markdown",
   "id": "61d334b6",
   "metadata": {},
   "source": [
    "## 1.5 Preenchimento de nulos"
   ]
  },
  {
   "cell_type": "code",
   "execution_count": 11,
   "id": "59c5061d",
   "metadata": {
    "ExecuteTime": {
     "end_time": "2022-11-05T23:28:58.166402Z",
     "start_time": "2022-11-05T23:28:58.032867Z"
    }
   },
   "outputs": [
    {
     "name": "stdout",
     "output_type": "stream",
     "text": [
      "Percentual de dados removidos: 24.93%\n"
     ]
    }
   ],
   "source": [
    "df1 = df1.dropna(subset=['description', 'customer_id'])\n",
    "print('Percentual de dados removidos: {:.2f}%'.format((1 - (df1.shape[0] / df_raw.shape[0]))*100))"
   ]
  },
  {
   "cell_type": "markdown",
   "id": "2df27777",
   "metadata": {},
   "source": [
    "## 1.6 Mudando tipo dos dados"
   ]
  },
  {
   "cell_type": "code",
   "execution_count": 18,
   "id": "6e111064",
   "metadata": {
    "ExecuteTime": {
     "end_time": "2022-11-05T23:39:39.645674Z",
     "start_time": "2022-11-05T23:39:39.142597Z"
    }
   },
   "outputs": [],
   "source": [
    "# invoice_date\n",
    "df1['invoice_date'] = pd.to_datetime(df1['invoice_date'], infer_datetime_format=True).dt.date.astype('datetime64')\n",
    "\n",
    "# customer_id \n",
    "df1['customer_id'] = df1['customer_id'].astype('int64').astype('object')"
   ]
  },
  {
   "cell_type": "code",
   "execution_count": 19,
   "id": "0cc11aee",
   "metadata": {
    "ExecuteTime": {
     "end_time": "2022-11-05T23:39:41.374850Z",
     "start_time": "2022-11-05T23:39:41.357667Z"
    }
   },
   "outputs": [
    {
     "data": {
      "text/plain": [
       "invoice_no              object\n",
       "stock_code              object\n",
       "description             object\n",
       "quantity                 int64\n",
       "invoice_date    datetime64[ns]\n",
       "unit_price             float64\n",
       "customer_id             object\n",
       "country                 object\n",
       "dtype: object"
      ]
     },
     "execution_count": 19,
     "metadata": {},
     "output_type": "execute_result"
    }
   ],
   "source": [
    "df1.dtypes"
   ]
  },
  {
   "cell_type": "markdown",
   "id": "c4b071cd",
   "metadata": {
    "heading_collapsed": true
   },
   "source": [
    "## 1.7 Análise descritiva"
   ]
  },
  {
   "cell_type": "code",
   "execution_count": null,
   "id": "1e64f12f",
   "metadata": {
    "ExecuteTime": {
     "end_time": "2022-06-10T20:57:54.797852Z",
     "start_time": "2022-06-10T20:57:54.642522Z"
    },
    "hidden": true
   },
   "outputs": [],
   "source": [
    "num_attributes = df1.select_dtypes(include=['int64', 'float64'])\n",
    "cat_attributes = df1.select_dtypes(exclude=['int64', 'float64', 'datetime64[ns]'])"
   ]
  },
  {
   "cell_type": "code",
   "execution_count": null,
   "id": "089f4e67",
   "metadata": {
    "ExecuteTime": {
     "end_time": "2022-06-10T20:57:54.814118Z",
     "start_time": "2022-06-10T20:57:54.800370Z"
    },
    "hidden": true
   },
   "outputs": [],
   "source": [
    "num_attributes.columns"
   ]
  },
  {
   "cell_type": "code",
   "execution_count": null,
   "id": "6f7684cc",
   "metadata": {
    "ExecuteTime": {
     "end_time": "2022-06-10T20:57:54.829498Z",
     "start_time": "2022-06-10T20:57:54.816134Z"
    },
    "hidden": true
   },
   "outputs": [],
   "source": [
    "cat_attributes.columns"
   ]
  },
  {
   "cell_type": "markdown",
   "id": "73cdea61",
   "metadata": {
    "heading_collapsed": true,
    "hidden": true
   },
   "source": [
    "### 1.7.1 Atributos númericos"
   ]
  },
  {
   "cell_type": "code",
   "execution_count": null,
   "id": "e0d7c56a",
   "metadata": {
    "ExecuteTime": {
     "end_time": "2022-06-10T20:57:56.225095Z",
     "start_time": "2022-06-10T20:57:54.831727Z"
    },
    "hidden": true,
    "scrolled": false
   },
   "outputs": [],
   "source": [
    "# Central Tendency - mean, mediana, 25%, 75% // dispersion - std, min, max, \n",
    "ctd1 = num_attributes.describe()\n",
    "\n",
    "#dispersion - range, skew, kurtosis\n",
    "d1 = pd.DataFrame(num_attributes.apply(lambda x: x.max() - x.min())).T\n",
    "d2 = pd.DataFrame(num_attributes.apply(lambda x: x.skew())).T\n",
    "d3 = pd.DataFrame(num_attributes.apply(lambda x: x.kurtosis())).T\n",
    "\n",
    "#join\n",
    "medidas = pd.concat([ctd1, d1, d2, d3]).T.reset_index()\n",
    "medidas.columns = ['attributes', 'count','mean', 'std', 'min', '25%', 'median', '75%', 'max', 'range', 'skew', 'kurtosis']\n",
    "\n",
    "\n",
    "medidas"
   ]
  },
  {
   "cell_type": "code",
   "execution_count": null,
   "id": "f90f0fb8",
   "metadata": {
    "ExecuteTime": {
     "end_time": "2022-06-10T20:58:02.781596Z",
     "start_time": "2022-06-10T20:57:56.226094Z"
    },
    "hidden": true
   },
   "outputs": [],
   "source": [
    "plt.figure(figsize = (30,60))\n",
    "num_attributes.hist(bins= 25, color= 'indianred');"
   ]
  },
  {
   "cell_type": "markdown",
   "id": "c94eef70",
   "metadata": {
    "heading_collapsed": true,
    "hidden": true
   },
   "source": [
    "### 1.7.2 Atributos categóricos"
   ]
  },
  {
   "cell_type": "code",
   "execution_count": null,
   "id": "99cfdb3d",
   "metadata": {
    "ExecuteTime": {
     "end_time": "2022-06-10T20:58:02.939116Z",
     "start_time": "2022-06-10T20:58:02.783126Z"
    },
    "hidden": true,
    "scrolled": true
   },
   "outputs": [],
   "source": [
    "cat_attributes.apply(lambda x: x.unique().shape[0])"
   ]
  },
  {
   "cell_type": "code",
   "execution_count": null,
   "id": "ce1a5542",
   "metadata": {
    "ExecuteTime": {
     "end_time": "2022-06-10T20:58:04.274439Z",
     "start_time": "2022-06-10T20:58:02.940111Z"
    },
    "hidden": true,
    "scrolled": false
   },
   "outputs": [],
   "source": []
  },
  {
   "cell_type": "markdown",
   "id": "ddb78c6f",
   "metadata": {},
   "source": [
    "# 2 Feature engineering"
   ]
  },
  {
   "cell_type": "code",
   "execution_count": 64,
   "id": "236fcc74",
   "metadata": {
    "ExecuteTime": {
     "end_time": "2022-11-06T00:39:28.096175Z",
     "start_time": "2022-11-06T00:39:27.996884Z"
    }
   },
   "outputs": [],
   "source": [
    "df2 = df1.copy()"
   ]
  },
  {
   "cell_type": "markdown",
   "id": "5d88d7e4",
   "metadata": {},
   "source": [
    "## 2.1 Mapa Mental de hipóteses"
   ]
  },
  {
   "cell_type": "code",
   "execution_count": null,
   "id": "4e1b61b7",
   "metadata": {
    "ExecuteTime": {
     "end_time": "2022-06-10T20:58:04.711076Z",
     "start_time": "2022-06-10T20:58:04.353159Z"
    }
   },
   "outputs": [],
   "source": [
    "Image(\"../images/\")"
   ]
  },
  {
   "cell_type": "markdown",
   "id": "82a3db3b",
   "metadata": {
    "ExecuteTime": {
     "end_time": "2022-05-30T22:20:26.848142Z",
     "start_time": "2022-05-30T22:20:26.839756Z"
    }
   },
   "source": [
    "## 2.2 Criação das hipóteses"
   ]
  },
  {
   "cell_type": "code",
   "execution_count": null,
   "id": "1a6f1515",
   "metadata": {},
   "outputs": [],
   "source": []
  },
  {
   "cell_type": "markdown",
   "id": "e1958421",
   "metadata": {},
   "source": [
    "## 2.3 Lista final de hipóteses"
   ]
  },
  {
   "cell_type": "code",
   "execution_count": null,
   "id": "723ee26c",
   "metadata": {},
   "outputs": [],
   "source": []
  },
  {
   "cell_type": "markdown",
   "id": "e748c65b",
   "metadata": {},
   "source": [
    "## 2.4 Criação de novas variáveis"
   ]
  },
  {
   "cell_type": "code",
   "execution_count": 65,
   "id": "d65dc5ca",
   "metadata": {
    "ExecuteTime": {
     "end_time": "2022-11-06T00:39:53.522219Z",
     "start_time": "2022-11-06T00:39:53.090585Z"
    }
   },
   "outputs": [],
   "source": [
    "# df de referência \n",
    "df_ref = df2[['customer_id']].drop_duplicates(ignore_index=True)\n",
    "\n",
    "# revenue = quantity * price\n",
    "df2['revenue'] = df2['quantity'] * df2['unit_price']\n",
    "\n",
    "# monetary\n",
    "df_monetary = df2.groupby('customer_id')['revenue'].sum().reset_index()\n",
    "\n",
    "# recency\n",
    "df_recency = df2.groupby('customer_id')['invoice_date'].max().reset_index()\n",
    "df_recency['recency_days'] = (df2['invoice_date'].max() - df_recency['invoice_date']).dt.days\n",
    "\n",
    "# frequency\n",
    "df_frequency = df2.groupby('customer_id')['invoice_no'].nunique().reset_index()\n",
    "\n",
    "# join\n",
    "c_id = 'customer_id'\n",
    "df_ref = df_ref.merge(df_monetary, on=c_id, how='left').merge(df_recency, on=c_id, how='left').merge(df_frequency, on=c_id, how='left')"
   ]
  },
  {
   "cell_type": "code",
   "execution_count": 67,
   "id": "4214250a",
   "metadata": {
    "ExecuteTime": {
     "end_time": "2022-11-06T00:40:08.875909Z",
     "start_time": "2022-11-06T00:40:08.836078Z"
    },
    "scrolled": false
   },
   "outputs": [
    {
     "data": {
      "text/html": [
       "<div>\n",
       "<style scoped>\n",
       "    .dataframe tbody tr th:only-of-type {\n",
       "        vertical-align: middle;\n",
       "    }\n",
       "\n",
       "    .dataframe tbody tr th {\n",
       "        vertical-align: top;\n",
       "    }\n",
       "\n",
       "    .dataframe thead th {\n",
       "        text-align: right;\n",
       "    }\n",
       "</style>\n",
       "<table border=\"1\" class=\"dataframe\">\n",
       "  <thead>\n",
       "    <tr style=\"text-align: right;\">\n",
       "      <th></th>\n",
       "      <th>0</th>\n",
       "      <th>1</th>\n",
       "      <th>2</th>\n",
       "      <th>3</th>\n",
       "      <th>4</th>\n",
       "    </tr>\n",
       "  </thead>\n",
       "  <tbody>\n",
       "    <tr>\n",
       "      <th>invoice_no</th>\n",
       "      <td>536365</td>\n",
       "      <td>536365</td>\n",
       "      <td>536365</td>\n",
       "      <td>536365</td>\n",
       "      <td>536365</td>\n",
       "    </tr>\n",
       "    <tr>\n",
       "      <th>stock_code</th>\n",
       "      <td>85123A</td>\n",
       "      <td>71053</td>\n",
       "      <td>84406B</td>\n",
       "      <td>84029G</td>\n",
       "      <td>84029E</td>\n",
       "    </tr>\n",
       "    <tr>\n",
       "      <th>description</th>\n",
       "      <td>WHITE HANGING HEART T-LIGHT HOLDER</td>\n",
       "      <td>WHITE METAL LANTERN</td>\n",
       "      <td>CREAM CUPID HEARTS COAT HANGER</td>\n",
       "      <td>KNITTED UNION FLAG HOT WATER BOTTLE</td>\n",
       "      <td>RED WOOLLY HOTTIE WHITE HEART.</td>\n",
       "    </tr>\n",
       "    <tr>\n",
       "      <th>quantity</th>\n",
       "      <td>6</td>\n",
       "      <td>6</td>\n",
       "      <td>8</td>\n",
       "      <td>6</td>\n",
       "      <td>6</td>\n",
       "    </tr>\n",
       "    <tr>\n",
       "      <th>invoice_date</th>\n",
       "      <td>2010-12-01 00:00:00</td>\n",
       "      <td>2010-12-01 00:00:00</td>\n",
       "      <td>2010-12-01 00:00:00</td>\n",
       "      <td>2010-12-01 00:00:00</td>\n",
       "      <td>2010-12-01 00:00:00</td>\n",
       "    </tr>\n",
       "    <tr>\n",
       "      <th>unit_price</th>\n",
       "      <td>2.55</td>\n",
       "      <td>3.39</td>\n",
       "      <td>2.75</td>\n",
       "      <td>3.39</td>\n",
       "      <td>3.39</td>\n",
       "    </tr>\n",
       "    <tr>\n",
       "      <th>customer_id</th>\n",
       "      <td>17850</td>\n",
       "      <td>17850</td>\n",
       "      <td>17850</td>\n",
       "      <td>17850</td>\n",
       "      <td>17850</td>\n",
       "    </tr>\n",
       "    <tr>\n",
       "      <th>country</th>\n",
       "      <td>United Kingdom</td>\n",
       "      <td>United Kingdom</td>\n",
       "      <td>United Kingdom</td>\n",
       "      <td>United Kingdom</td>\n",
       "      <td>United Kingdom</td>\n",
       "    </tr>\n",
       "    <tr>\n",
       "      <th>revenue</th>\n",
       "      <td>15.3</td>\n",
       "      <td>20.34</td>\n",
       "      <td>22.0</td>\n",
       "      <td>20.34</td>\n",
       "      <td>20.34</td>\n",
       "    </tr>\n",
       "  </tbody>\n",
       "</table>\n",
       "</div>"
      ],
      "text/plain": [
       "                                               0                    1                               2                                    3                               4\n",
       "invoice_no                                536365               536365                          536365                               536365                          536365\n",
       "stock_code                                85123A                71053                          84406B                               84029G                          84029E\n",
       "description   WHITE HANGING HEART T-LIGHT HOLDER  WHITE METAL LANTERN  CREAM CUPID HEARTS COAT HANGER  KNITTED UNION FLAG HOT WATER BOTTLE  RED WOOLLY HOTTIE WHITE HEART.\n",
       "quantity                                       6                    6                               8                                    6                               6\n",
       "invoice_date                 2010-12-01 00:00:00  2010-12-01 00:00:00             2010-12-01 00:00:00                  2010-12-01 00:00:00             2010-12-01 00:00:00\n",
       "unit_price                                  2.55                 3.39                            2.75                                 3.39                            3.39\n",
       "customer_id                                17850                17850                           17850                                17850                           17850\n",
       "country                           United Kingdom       United Kingdom                  United Kingdom                       United Kingdom                  United Kingdom\n",
       "revenue                                     15.3                20.34                            22.0                                20.34                           20.34"
      ]
     },
     "execution_count": 67,
     "metadata": {},
     "output_type": "execute_result"
    }
   ],
   "source": [
    "df2.head().T"
   ]
  },
  {
   "cell_type": "markdown",
   "id": "88b51e37",
   "metadata": {},
   "source": [
    "# 3 Filtragem dos dados"
   ]
  },
  {
   "cell_type": "code",
   "execution_count": 68,
   "id": "518c0947",
   "metadata": {
    "ExecuteTime": {
     "end_time": "2022-11-06T00:42:40.674123Z",
     "start_time": "2022-11-06T00:42:40.655302Z"
    }
   },
   "outputs": [],
   "source": [
    "df3 = df_ref.copy()"
   ]
  },
  {
   "cell_type": "markdown",
   "id": "7a623aa8",
   "metadata": {
    "heading_collapsed": true
   },
   "source": [
    "## 3.1 Filtragem das linhas"
   ]
  },
  {
   "cell_type": "code",
   "execution_count": null,
   "id": "b31a0143",
   "metadata": {
    "ExecuteTime": {
     "end_time": "2022-06-10T20:59:06.579350Z",
     "start_time": "2022-06-10T20:59:06.363923Z"
    },
    "hidden": true
   },
   "outputs": [],
   "source": []
  },
  {
   "cell_type": "markdown",
   "id": "2577d5ff",
   "metadata": {
    "heading_collapsed": true
   },
   "source": [
    "## 3.2 Filtragem das colunas"
   ]
  },
  {
   "cell_type": "code",
   "execution_count": null,
   "id": "fbaa8ee7",
   "metadata": {
    "ExecuteTime": {
     "end_time": "2022-06-10T20:59:06.720751Z",
     "start_time": "2022-06-10T20:59:06.591293Z"
    },
    "hidden": true
   },
   "outputs": [],
   "source": []
  },
  {
   "cell_type": "markdown",
   "id": "17f1ac89",
   "metadata": {},
   "source": [
    "# 4. Análise exploratória de dados (EDA)"
   ]
  },
  {
   "cell_type": "code",
   "execution_count": 69,
   "id": "0c576477",
   "metadata": {
    "ExecuteTime": {
     "end_time": "2022-11-06T00:42:48.927805Z",
     "start_time": "2022-11-06T00:42:48.912216Z"
    }
   },
   "outputs": [],
   "source": [
    "df4 = df3.copy()"
   ]
  },
  {
   "cell_type": "code",
   "execution_count": null,
   "id": "1dfc9719",
   "metadata": {
    "ExecuteTime": {
     "end_time": "2022-06-10T20:59:06.942857Z",
     "start_time": "2022-06-10T20:59:06.818293Z"
    }
   },
   "outputs": [],
   "source": [
    "num_attributes = df4.select_dtypes(include=['int64', 'float64'])\n",
    "cat_attributes = df4.select_dtypes(exclude=['int64', 'float64', 'datetime64[ns]'])"
   ]
  },
  {
   "cell_type": "markdown",
   "id": "f6a0e0fc",
   "metadata": {
    "heading_collapsed": true
   },
   "source": [
    "## 4.1 Análise univariada"
   ]
  },
  {
   "cell_type": "markdown",
   "id": "df63a991",
   "metadata": {
    "ExecuteTime": {
     "end_time": "2022-05-31T20:44:33.976764Z",
     "start_time": "2022-05-31T20:44:33.962652Z"
    },
    "heading_collapsed": true,
    "hidden": true
   },
   "source": [
    "### 4.1.1 Variável resposta"
   ]
  },
  {
   "cell_type": "code",
   "execution_count": null,
   "id": "7d3be18e",
   "metadata": {
    "ExecuteTime": {
     "end_time": "2022-06-10T20:59:12.390272Z",
     "start_time": "2022-06-10T20:59:06.945339Z"
    },
    "hidden": true
   },
   "outputs": [],
   "source": []
  },
  {
   "cell_type": "markdown",
   "id": "842b36e2",
   "metadata": {
    "ExecuteTime": {
     "end_time": "2022-05-31T20:44:33.976764Z",
     "start_time": "2022-05-31T20:44:33.962652Z"
    },
    "heading_collapsed": true,
    "hidden": true
   },
   "source": [
    "### 4.1.2 Variáveis numéricas"
   ]
  },
  {
   "cell_type": "code",
   "execution_count": null,
   "id": "eb1c321e",
   "metadata": {
    "ExecuteTime": {
     "end_time": "2022-06-10T20:59:16.545050Z",
     "start_time": "2022-06-10T20:59:12.391269Z"
    },
    "hidden": true
   },
   "outputs": [],
   "source": []
  },
  {
   "cell_type": "markdown",
   "id": "2ff710f3",
   "metadata": {
    "ExecuteTime": {
     "end_time": "2022-05-31T20:44:33.976764Z",
     "start_time": "2022-05-31T20:44:33.962652Z"
    },
    "hidden": true
   },
   "source": [
    "### 4.1.3 Variável categóricas"
   ]
  },
  {
   "cell_type": "code",
   "execution_count": null,
   "id": "9c7d9958",
   "metadata": {
    "ExecuteTime": {
     "end_time": "2022-06-10T20:59:40.609474Z",
     "start_time": "2022-06-10T20:59:16.547045Z"
    },
    "hidden": true
   },
   "outputs": [],
   "source": []
  },
  {
   "cell_type": "markdown",
   "id": "43322fbb",
   "metadata": {
    "heading_collapsed": true
   },
   "source": [
    "## 4.2 Análise bivariada"
   ]
  },
  {
   "cell_type": "markdown",
   "id": "a8d46eb3",
   "metadata": {
    "ExecuteTime": {
     "end_time": "2022-05-30T22:34:11.246191Z",
     "start_time": "2022-05-30T22:34:11.240241Z"
    },
    "hidden": true
   },
   "source": [
    "### Hn: \n",
    "**VERDADEIRA/FALSA**"
   ]
  },
  {
   "cell_type": "code",
   "execution_count": null,
   "id": "be00032a",
   "metadata": {
    "hidden": true
   },
   "outputs": [],
   "source": []
  },
  {
   "cell_type": "markdown",
   "id": "0b3b1d0a",
   "metadata": {
    "hidden": true
   },
   "source": [
    "### 4.2.1 Resumo das hipóteses"
   ]
  },
  {
   "cell_type": "code",
   "execution_count": null,
   "id": "003de512",
   "metadata": {
    "ExecuteTime": {
     "end_time": "2022-06-10T21:00:05.087047Z",
     "start_time": "2022-06-10T21:00:05.075053Z"
    },
    "hidden": true
   },
   "outputs": [],
   "source": [
    "tab =[['Hipoteses', 'Conclusao', 'Relevancia'],\n",
    "      ['H1', 'Falsa', 'Baixa'],  \n",
    "      ['H2', 'Falsa', 'Media'],  \n",
    "      ['H3', 'Falsa', 'Media'],\n",
    "      ['H4', 'Falsa', 'Baixa'],\n",
    "      ['H5', '-', '-'],\n",
    "      ['H6', 'Falsa', 'Baixa'],\n",
    "      ['H7', 'Falsa', 'Media'],\n",
    "      ['H8', 'Falsa', 'Alta'],\n",
    "      ['H9', 'Falsa', 'Alta'],\n",
    "      ['H10', 'Verdadeira', 'Alta'],\n",
    "      ['H11', 'Verdadeira', 'Alta'],\n",
    "      ['H12', 'Verdadeira', 'Baixa'],\n",
    "     ]  \n",
    "print(tabulate( tab, headers='firstrow'))"
   ]
  },
  {
   "cell_type": "markdown",
   "id": "bb50f71b",
   "metadata": {
    "heading_collapsed": true
   },
   "source": [
    "## 4.3 Análise multivariada"
   ]
  },
  {
   "cell_type": "markdown",
   "id": "adf5ddba",
   "metadata": {
    "hidden": true
   },
   "source": [
    "### 4.3.1 Variáveis númericas"
   ]
  },
  {
   "cell_type": "code",
   "execution_count": null,
   "id": "7a22ffbc",
   "metadata": {
    "ExecuteTime": {
     "end_time": "2022-06-10T21:00:07.181788Z",
     "start_time": "2022-06-10T21:00:05.089014Z"
    },
    "hidden": true
   },
   "outputs": [],
   "source": []
  },
  {
   "cell_type": "markdown",
   "id": "43b1b375",
   "metadata": {
    "heading_collapsed": true,
    "hidden": true
   },
   "source": [
    "### 4.3.2 Variáveis categóricas"
   ]
  },
  {
   "cell_type": "code",
   "execution_count": null,
   "id": "e6dc33a7",
   "metadata": {
    "ExecuteTime": {
     "end_time": "2022-06-10T21:00:08.905947Z",
     "start_time": "2022-06-10T21:00:07.183796Z"
    },
    "hidden": true
   },
   "outputs": [],
   "source": []
  },
  {
   "cell_type": "markdown",
   "id": "87f3423f",
   "metadata": {},
   "source": [
    "# 5 Preparação dos dados"
   ]
  },
  {
   "cell_type": "code",
   "execution_count": 70,
   "id": "21e4ce0e",
   "metadata": {
    "ExecuteTime": {
     "end_time": "2022-11-06T00:43:14.592203Z",
     "start_time": "2022-11-06T00:43:14.571659Z"
    }
   },
   "outputs": [],
   "source": [
    "df5 = df4.copy()"
   ]
  },
  {
   "cell_type": "markdown",
   "id": "b86fa0d6",
   "metadata": {
    "heading_collapsed": true
   },
   "source": [
    "## 5.1 Normalização"
   ]
  },
  {
   "cell_type": "code",
   "execution_count": null,
   "id": "b1a87371",
   "metadata": {
    "hidden": true
   },
   "outputs": [],
   "source": []
  },
  {
   "cell_type": "markdown",
   "id": "3b881410",
   "metadata": {
    "heading_collapsed": true
   },
   "source": [
    "## 5.2 Rescaling"
   ]
  },
  {
   "cell_type": "code",
   "execution_count": null,
   "id": "106a9f9b",
   "metadata": {
    "ExecuteTime": {
     "end_time": "2022-06-13T12:21:07.897330Z",
     "start_time": "2022-06-13T12:21:07.262928Z"
    },
    "hidden": true
   },
   "outputs": [],
   "source": []
  },
  {
   "cell_type": "markdown",
   "id": "3d7fe180",
   "metadata": {
    "heading_collapsed": true
   },
   "source": [
    "## 5.3 Transformação"
   ]
  },
  {
   "cell_type": "markdown",
   "id": "c0a23fbf",
   "metadata": {
    "hidden": true
   },
   "source": [
    "### 5.3.1 Encoding"
   ]
  },
  {
   "cell_type": "code",
   "execution_count": null,
   "id": "59ac8118",
   "metadata": {
    "ExecuteTime": {
     "end_time": "2022-06-13T12:22:47.936939Z",
     "start_time": "2022-06-13T12:22:47.915573Z"
    },
    "hidden": true
   },
   "outputs": [],
   "source": []
  },
  {
   "cell_type": "markdown",
   "id": "02437291",
   "metadata": {
    "hidden": true
   },
   "source": [
    "### 5.3.2 Transformação da variável resposta"
   ]
  },
  {
   "cell_type": "code",
   "execution_count": null,
   "id": "e65f84c6",
   "metadata": {
    "ExecuteTime": {
     "end_time": "2022-06-10T21:00:09.999714Z",
     "start_time": "2022-06-10T21:00:09.955831Z"
    },
    "hidden": true
   },
   "outputs": [],
   "source": []
  },
  {
   "cell_type": "markdown",
   "id": "bf0e358c",
   "metadata": {
    "heading_collapsed": true,
    "hidden": true
   },
   "source": [
    "### 5.3.3 Transformação de natureza"
   ]
  },
  {
   "cell_type": "code",
   "execution_count": null,
   "id": "4df82f57",
   "metadata": {
    "ExecuteTime": {
     "end_time": "2022-06-10T21:00:18.034397Z",
     "start_time": "2022-06-10T21:00:10.001708Z"
    },
    "hidden": true
   },
   "outputs": [],
   "source": []
  },
  {
   "cell_type": "markdown",
   "id": "8ad24b4c",
   "metadata": {},
   "source": [
    "# 6 Seleção de variáveis"
   ]
  },
  {
   "cell_type": "code",
   "execution_count": 71,
   "id": "5bc0eeed",
   "metadata": {
    "ExecuteTime": {
     "end_time": "2022-11-06T00:43:28.251976Z",
     "start_time": "2022-11-06T00:43:28.230487Z"
    }
   },
   "outputs": [],
   "source": [
    "df6 = df5.copy()"
   ]
  },
  {
   "cell_type": "markdown",
   "id": "7e857893",
   "metadata": {},
   "source": [
    "## 6.1 Separação do conjunto de dados em treino e teste"
   ]
  },
  {
   "cell_type": "code",
   "execution_count": null,
   "id": "d5e0d0c4",
   "metadata": {
    "ExecuteTime": {
     "end_time": "2022-06-10T21:00:18.377232Z",
     "start_time": "2022-06-10T21:00:18.259015Z"
    }
   },
   "outputs": [],
   "source": []
  },
  {
   "cell_type": "markdown",
   "id": "83b8a529",
   "metadata": {},
   "source": [
    "## 6.2 Feature selector"
   ]
  },
  {
   "cell_type": "code",
   "execution_count": null,
   "id": "767e7b7e",
   "metadata": {
    "ExecuteTime": {
     "end_time": "2022-06-10T21:00:18.558292Z",
     "start_time": "2022-06-10T21:00:18.536544Z"
    }
   },
   "outputs": [],
   "source": []
  },
  {
   "cell_type": "markdown",
   "id": "3705d684",
   "metadata": {
    "heading_collapsed": true
   },
   "source": [
    "## 6.3 Seleção de variáveis manual após feature selector"
   ]
  },
  {
   "cell_type": "code",
   "execution_count": null,
   "id": "47bdf2cc",
   "metadata": {
    "ExecuteTime": {
     "end_time": "2022-06-10T21:00:18.611307Z",
     "start_time": "2022-06-10T21:00:18.586924Z"
    },
    "hidden": true
   },
   "outputs": [],
   "source": []
  },
  {
   "cell_type": "markdown",
   "id": "e53791df",
   "metadata": {},
   "source": [
    "# 7 Otimização dos hiperparâmetros"
   ]
  },
  {
   "cell_type": "code",
   "execution_count": 72,
   "id": "369c4a5e",
   "metadata": {
    "ExecuteTime": {
     "end_time": "2022-11-06T00:44:29.196381Z",
     "start_time": "2022-11-06T00:44:29.175054Z"
    }
   },
   "outputs": [
    {
     "data": {
      "text/html": [
       "<div>\n",
       "<style scoped>\n",
       "    .dataframe tbody tr th:only-of-type {\n",
       "        vertical-align: middle;\n",
       "    }\n",
       "\n",
       "    .dataframe tbody tr th {\n",
       "        vertical-align: top;\n",
       "    }\n",
       "\n",
       "    .dataframe thead th {\n",
       "        text-align: right;\n",
       "    }\n",
       "</style>\n",
       "<table border=\"1\" class=\"dataframe\">\n",
       "  <thead>\n",
       "    <tr style=\"text-align: right;\">\n",
       "      <th></th>\n",
       "      <th>customer_id</th>\n",
       "      <th>revenue</th>\n",
       "      <th>invoice_date</th>\n",
       "      <th>recency_days</th>\n",
       "      <th>invoice_no</th>\n",
       "    </tr>\n",
       "  </thead>\n",
       "  <tbody>\n",
       "    <tr>\n",
       "      <th>0</th>\n",
       "      <td>17850</td>\n",
       "      <td>5288.63</td>\n",
       "      <td>2011-02-10</td>\n",
       "      <td>302</td>\n",
       "      <td>35</td>\n",
       "    </tr>\n",
       "    <tr>\n",
       "      <th>1</th>\n",
       "      <td>13047</td>\n",
       "      <td>3079.10</td>\n",
       "      <td>2011-11-08</td>\n",
       "      <td>31</td>\n",
       "      <td>18</td>\n",
       "    </tr>\n",
       "    <tr>\n",
       "      <th>2</th>\n",
       "      <td>12583</td>\n",
       "      <td>7187.34</td>\n",
       "      <td>2011-12-07</td>\n",
       "      <td>2</td>\n",
       "      <td>18</td>\n",
       "    </tr>\n",
       "    <tr>\n",
       "      <th>3</th>\n",
       "      <td>13748</td>\n",
       "      <td>948.25</td>\n",
       "      <td>2011-09-05</td>\n",
       "      <td>95</td>\n",
       "      <td>5</td>\n",
       "    </tr>\n",
       "    <tr>\n",
       "      <th>4</th>\n",
       "      <td>15100</td>\n",
       "      <td>635.10</td>\n",
       "      <td>2011-01-13</td>\n",
       "      <td>330</td>\n",
       "      <td>6</td>\n",
       "    </tr>\n",
       "  </tbody>\n",
       "</table>\n",
       "</div>"
      ],
      "text/plain": [
       "  customer_id  revenue invoice_date  recency_days  invoice_no\n",
       "0       17850  5288.63   2011-02-10           302          35\n",
       "1       13047  3079.10   2011-11-08            31          18\n",
       "2       12583  7187.34   2011-12-07             2          18\n",
       "3       13748   948.25   2011-09-05            95           5\n",
       "4       15100   635.10   2011-01-13           330           6"
      ]
     },
     "execution_count": 72,
     "metadata": {},
     "output_type": "execute_result"
    }
   ],
   "source": [
    "df6.head()"
   ]
  },
  {
   "cell_type": "code",
   "execution_count": null,
   "id": "7cbba647",
   "metadata": {
    "ExecuteTime": {
     "end_time": "2022-06-10T21:00:18.754060Z",
     "start_time": "2022-06-10T21:00:18.613603Z"
    }
   },
   "outputs": [],
   "source": [
    "df7 = df6[]"
   ]
  },
  {
   "cell_type": "markdown",
   "id": "22b72c7a",
   "metadata": {},
   "source": [
    "## 7.1 Modelo-n"
   ]
  },
  {
   "cell_type": "code",
   "execution_count": null,
   "id": "b573ab4e",
   "metadata": {
    "ExecuteTime": {
     "end_time": "2022-06-10T19:42:07.723977Z",
     "start_time": "2022-06-10T19:42:07.629265Z"
    }
   },
   "outputs": [],
   "source": []
  },
  {
   "cell_type": "markdown",
   "id": "690f097d",
   "metadata": {
    "heading_collapsed": true
   },
   "source": [
    "## 7.6 Comparando a perfomance dos modelos"
   ]
  },
  {
   "cell_type": "markdown",
   "id": "ae657c4c",
   "metadata": {
    "hidden": true
   },
   "source": [
    "### 7.6.1 Performance única fold"
   ]
  },
  {
   "cell_type": "code",
   "execution_count": null,
   "id": "ff73d513",
   "metadata": {
    "ExecuteTime": {
     "end_time": "2022-06-09T14:50:25.445049Z",
     "start_time": "2022-06-09T14:50:25.425104Z"
    },
    "hidden": true,
    "scrolled": true
   },
   "outputs": [],
   "source": []
  },
  {
   "cell_type": "markdown",
   "id": "def771de",
   "metadata": {
    "heading_collapsed": true,
    "hidden": true
   },
   "source": [
    "### 7.6.2 Performance cross validation"
   ]
  },
  {
   "cell_type": "code",
   "execution_count": null,
   "id": "89a83625",
   "metadata": {
    "ExecuteTime": {
     "end_time": "2022-06-09T18:18:38.461062Z",
     "start_time": "2022-06-09T18:18:38.447174Z"
    },
    "hidden": true,
    "scrolled": false
   },
   "outputs": [],
   "source": []
  },
  {
   "cell_type": "markdown",
   "id": "8cf4668b",
   "metadata": {
    "heading_collapsed": true
   },
   "source": [
    "# 8 Machine learning"
   ]
  },
  {
   "cell_type": "markdown",
   "id": "3793d6bb",
   "metadata": {
    "hidden": true
   },
   "source": [
    "## 8.1 Método otimizador"
   ]
  },
  {
   "cell_type": "code",
   "execution_count": null,
   "id": "5a8a768a",
   "metadata": {
    "ExecuteTime": {
     "end_time": "2022-06-09T19:38:21.607778Z",
     "start_time": "2022-06-09T19:38:21.574382Z"
    },
    "hidden": true
   },
   "outputs": [],
   "source": []
  },
  {
   "cell_type": "markdown",
   "id": "11476303",
   "metadata": {
    "heading_collapsed": true,
    "hidden": true
   },
   "source": [
    "## 8.2 Modelo final tunado"
   ]
  },
  {
   "cell_type": "code",
   "execution_count": null,
   "id": "7cca6a34",
   "metadata": {
    "ExecuteTime": {
     "end_time": "2022-06-10T21:02:00.500816Z",
     "start_time": "2022-06-10T21:02:00.485442Z"
    },
    "hidden": true
   },
   "outputs": [],
   "source": []
  },
  {
   "cell_type": "markdown",
   "id": "de247ca0",
   "metadata": {
    "hidden": true
   },
   "source": [
    "Tempo de execução: 1h09"
   ]
  },
  {
   "cell_type": "markdown",
   "id": "3866d5bc",
   "metadata": {
    "heading_collapsed": true
   },
   "source": [
    "# 9 Análise dos clusters"
   ]
  },
  {
   "cell_type": "code",
   "execution_count": null,
   "id": "32b165cf",
   "metadata": {
    "ExecuteTime": {
     "end_time": "2022-06-11T18:59:06.946348Z",
     "start_time": "2022-06-11T18:59:06.800502Z"
    },
    "hidden": true
   },
   "outputs": [],
   "source": []
  },
  {
   "cell_type": "markdown",
   "id": "3bd5fb63",
   "metadata": {
    "heading_collapsed": true,
    "hidden": true
   },
   "source": [
    "## 9.1 Performance do negócio"
   ]
  },
  {
   "cell_type": "code",
   "execution_count": null,
   "id": "4aa6ec5e",
   "metadata": {
    "ExecuteTime": {
     "end_time": "2022-06-11T19:30:23.557524Z",
     "start_time": "2022-06-11T19:30:22.790473Z"
    },
    "hidden": true
   },
   "outputs": [],
   "source": []
  },
  {
   "cell_type": "markdown",
   "id": "9d28f875",
   "metadata": {
    "heading_collapsed": true
   },
   "source": [
    "# 10 Deployment do modelo em produção"
   ]
  },
  {
   "cell_type": "code",
   "execution_count": null,
   "id": "fe1a038c",
   "metadata": {
    "ExecuteTime": {
     "end_time": "2022-06-13T12:06:30.330230Z",
     "start_time": "2022-06-13T12:06:28.022710Z"
    },
    "hidden": true
   },
   "outputs": [],
   "source": [
    "# Save Trained Model\n"
   ]
  },
  {
   "cell_type": "markdown",
   "id": "c21f7706",
   "metadata": {
    "heading_collapsed": true,
    "hidden": true
   },
   "source": [
    "## 10.1 Model class"
   ]
  },
  {
   "cell_type": "code",
   "execution_count": null,
   "id": "4dc39316",
   "metadata": {
    "ExecuteTime": {
     "end_time": "2022-06-13T14:23:41.537029Z",
     "start_time": "2022-06-13T14:23:41.494113Z"
    },
    "hidden": true
   },
   "outputs": [],
   "source": [
    "                              "
   ]
  },
  {
   "cell_type": "markdown",
   "id": "4f17feb3",
   "metadata": {
    "heading_collapsed": true,
    "hidden": true
   },
   "source": [
    "## 10.2 API handler"
   ]
  },
  {
   "cell_type": "code",
   "execution_count": null,
   "id": "ebb4acbc",
   "metadata": {
    "ExecuteTime": {
     "end_time": "2022-06-13T14:23:33.669234Z",
     "start_time": "2022-06-13T14:23:33.466242Z"
    },
    "hidden": true
   },
   "outputs": [],
   "source": []
  },
  {
   "cell_type": "markdown",
   "id": "b972c36a",
   "metadata": {
    "heading_collapsed": true,
    "hidden": true
   },
   "source": [
    "## 10.3 API tester"
   ]
  },
  {
   "cell_type": "code",
   "execution_count": null,
   "id": "0508be38",
   "metadata": {
    "ExecuteTime": {
     "end_time": "2022-06-13T20:50:44.263240Z",
     "start_time": "2022-06-13T20:50:44.196138Z"
    },
    "hidden": true
   },
   "outputs": [],
   "source": []
  }
 ],
 "metadata": {
  "kernelspec": {
   "display_name": "Python 3 (ipykernel)",
   "language": "python",
   "name": "python3"
  },
  "language_info": {
   "codemirror_mode": {
    "name": "ipython",
    "version": 3
   },
   "file_extension": ".py",
   "mimetype": "text/x-python",
   "name": "python",
   "nbconvert_exporter": "python",
   "pygments_lexer": "ipython3",
   "version": "3.10.6"
  },
  "varInspector": {
   "cols": {
    "lenName": 16,
    "lenType": 16,
    "lenVar": 40
   },
   "kernels_config": {
    "python": {
     "delete_cmd_postfix": "",
     "delete_cmd_prefix": "del ",
     "library": "var_list.py",
     "varRefreshCmd": "print(var_dic_list())"
    },
    "r": {
     "delete_cmd_postfix": ") ",
     "delete_cmd_prefix": "rm(",
     "library": "var_list.r",
     "varRefreshCmd": "cat(var_dic_list()) "
    }
   },
   "types_to_exclude": [
    "module",
    "function",
    "builtin_function_or_method",
    "instance",
    "_Feature"
   ],
   "window_display": false
  }
 },
 "nbformat": 4,
 "nbformat_minor": 5
}
