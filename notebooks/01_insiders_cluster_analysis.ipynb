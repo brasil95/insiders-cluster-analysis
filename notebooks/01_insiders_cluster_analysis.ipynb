{
 "cells": [
  {
   "cell_type": "markdown",
   "id": "e2df8641",
   "metadata": {},
   "source": [
    "# 0 Imports"
   ]
  },
  {
   "cell_type": "code",
   "execution_count": 2,
   "id": "165c5d4a",
   "metadata": {
    "ExecuteTime": {
     "end_time": "2022-10-29T21:14:34.738888Z",
     "start_time": "2022-10-29T21:14:30.750230Z"
    }
   },
   "outputs": [],
   "source": [
    "import numpy as np\n",
    "import pandas as pd\n",
    "import seaborn as sns\n",
    "import warnings\n",
    "\n",
    "from matplotlib           import pyplot as plt\n",
    "from matplotlib.gridspec  import GridSpec\n",
    "from IPython.display      import Image\n",
    "from IPython.core.display import HTML\n",
    "\n",
    "warnings.filterwarnings( 'ignore' )"
   ]
  },
  {
   "cell_type": "markdown",
   "id": "7e3fd84d",
   "metadata": {},
   "source": [
    "## 0.1 Funções auxiliares"
   ]
  },
  {
   "cell_type": "code",
   "execution_count": 3,
   "id": "99889a1a",
   "metadata": {
    "ExecuteTime": {
     "end_time": "2022-10-29T21:14:38.694464Z",
     "start_time": "2022-10-29T21:14:38.688425Z"
    }
   },
   "outputs": [],
   "source": [
    "def jupyter_settings():\n",
    "    %matplotlib inline\n",
    "    \n",
    "    plt.style.use( 'bmh' )\n",
    "    plt.rcParams['figure.figsize'] = [18, 10]\n",
    "    plt.rcParams['font.size'] = 24\n",
    "    sns.set_palette(\"Reds\") \n",
    "    \n",
    "    display(HTML( '<style>.container { width:100% !important; }</style>'))\n",
    "    pd.options.display.max_columns = None\n",
    "    pd.options.display.max_rows = None\n",
    "    pd.set_option( 'display.expand_frame_repr', False )\n",
    "    \n",
    "    sns.set()"
   ]
  },
  {
   "cell_type": "code",
   "execution_count": 4,
   "id": "4895a24a",
   "metadata": {
    "ExecuteTime": {
     "end_time": "2022-10-29T21:14:47.528281Z",
     "start_time": "2022-10-29T21:14:47.486343Z"
    }
   },
   "outputs": [
    {
     "data": {
      "text/html": [
       "<style>.container { width:100% !important; }</style>"
      ],
      "text/plain": [
       "<IPython.core.display.HTML object>"
      ]
     },
     "metadata": {},
     "output_type": "display_data"
    }
   ],
   "source": [
    "jupyter_settings()"
   ]
  },
  {
   "cell_type": "markdown",
   "id": "9d5ccde4",
   "metadata": {},
   "source": [
    "## 0.2 Carregamento dos dados"
   ]
  },
  {
   "cell_type": "code",
   "execution_count": null,
   "id": "54d26b8e",
   "metadata": {
    "ExecuteTime": {
     "end_time": "2022-06-10T20:55:33.852390Z",
     "start_time": "2022-06-10T20:55:32.347118Z"
    }
   },
   "outputs": [],
   "source": []
  },
  {
   "cell_type": "markdown",
   "id": "02a89b76",
   "metadata": {
    "heading_collapsed": true
   },
   "source": [
    "# 1 Descrição dos dados"
   ]
  },
  {
   "cell_type": "code",
   "execution_count": null,
   "id": "926e3d20",
   "metadata": {
    "ExecuteTime": {
     "end_time": "2022-06-10T20:55:34.131529Z",
     "start_time": "2022-06-10T20:55:33.916029Z"
    },
    "hidden": true
   },
   "outputs": [],
   "source": [
    "df1 = df_raw.copy()"
   ]
  },
  {
   "cell_type": "markdown",
   "id": "57092004",
   "metadata": {
    "hidden": true
   },
   "source": [
    "## 1.1 Renomeando colunas"
   ]
  },
  {
   "cell_type": "code",
   "execution_count": null,
   "id": "f0a73175",
   "metadata": {
    "ExecuteTime": {
     "end_time": "2022-06-10T20:55:34.146772Z",
     "start_time": "2022-06-10T20:55:34.133528Z"
    },
    "hidden": true
   },
   "outputs": [],
   "source": []
  },
  {
   "cell_type": "markdown",
   "id": "dffcf4e0",
   "metadata": {
    "hidden": true
   },
   "source": [
    "## 1.2 Dimensão dos dados"
   ]
  },
  {
   "cell_type": "code",
   "execution_count": null,
   "id": "4798a4a8",
   "metadata": {
    "ExecuteTime": {
     "end_time": "2022-06-10T20:55:34.224114Z",
     "start_time": "2022-06-10T20:55:34.148810Z"
    },
    "hidden": true
   },
   "outputs": [],
   "source": [
    "print('Núm de Linhas: {}'.format(df1.shape[0]))\n",
    "print('Núm de Colunas: {}'.format(df1.shape[1]))"
   ]
  },
  {
   "cell_type": "markdown",
   "id": "47c2fe5e",
   "metadata": {
    "hidden": true
   },
   "source": [
    "## 1.3 Tipo dos dados"
   ]
  },
  {
   "cell_type": "code",
   "execution_count": null,
   "id": "5828a91e",
   "metadata": {
    "ExecuteTime": {
     "end_time": "2022-06-10T20:55:34.365342Z",
     "start_time": "2022-06-10T20:55:34.226119Z"
    },
    "hidden": true
   },
   "outputs": [],
   "source": [
    "df1.dtypes"
   ]
  },
  {
   "cell_type": "markdown",
   "id": "2e1d2165",
   "metadata": {
    "hidden": true
   },
   "source": [
    "## 1.4 Checagem de valores nulos"
   ]
  },
  {
   "cell_type": "code",
   "execution_count": null,
   "id": "12148441",
   "metadata": {
    "ExecuteTime": {
     "end_time": "2022-06-10T20:55:34.613401Z",
     "start_time": "2022-06-10T20:55:34.371244Z"
    },
    "hidden": true
   },
   "outputs": [],
   "source": [
    "df1.isna().sum()"
   ]
  },
  {
   "cell_type": "markdown",
   "id": "61d334b6",
   "metadata": {
    "hidden": true
   },
   "source": [
    "## 1.5 Preenchimento de nulos"
   ]
  },
  {
   "cell_type": "code",
   "execution_count": null,
   "id": "59c5061d",
   "metadata": {
    "ExecuteTime": {
     "end_time": "2022-06-10T20:55:34.677090Z",
     "start_time": "2022-06-10T20:55:34.615287Z"
    },
    "hidden": true
   },
   "outputs": [],
   "source": []
  },
  {
   "cell_type": "markdown",
   "id": "2df27777",
   "metadata": {
    "hidden": true
   },
   "source": [
    "## 1.6 Mudando tipo dos dados"
   ]
  },
  {
   "cell_type": "code",
   "execution_count": null,
   "id": "6e111064",
   "metadata": {
    "ExecuteTime": {
     "end_time": "2022-06-10T20:57:54.640691Z",
     "start_time": "2022-06-10T20:57:54.564121Z"
    },
    "hidden": true
   },
   "outputs": [],
   "source": []
  },
  {
   "cell_type": "markdown",
   "id": "c4b071cd",
   "metadata": {
    "heading_collapsed": true,
    "hidden": true
   },
   "source": [
    "## 1.7 Análise descritiva"
   ]
  },
  {
   "cell_type": "code",
   "execution_count": null,
   "id": "1e64f12f",
   "metadata": {
    "ExecuteTime": {
     "end_time": "2022-06-10T20:57:54.797852Z",
     "start_time": "2022-06-10T20:57:54.642522Z"
    },
    "hidden": true
   },
   "outputs": [],
   "source": [
    "num_attributes = df1.select_dtypes(include=['int64', 'float64'])\n",
    "cat_attributes = df1.select_dtypes(exclude=['int64', 'float64', 'datetime64[ns]'])"
   ]
  },
  {
   "cell_type": "code",
   "execution_count": null,
   "id": "089f4e67",
   "metadata": {
    "ExecuteTime": {
     "end_time": "2022-06-10T20:57:54.814118Z",
     "start_time": "2022-06-10T20:57:54.800370Z"
    },
    "hidden": true
   },
   "outputs": [],
   "source": [
    "num_attributes.columns"
   ]
  },
  {
   "cell_type": "code",
   "execution_count": null,
   "id": "6f7684cc",
   "metadata": {
    "ExecuteTime": {
     "end_time": "2022-06-10T20:57:54.829498Z",
     "start_time": "2022-06-10T20:57:54.816134Z"
    },
    "hidden": true
   },
   "outputs": [],
   "source": [
    "cat_attributes.columns"
   ]
  },
  {
   "cell_type": "markdown",
   "id": "73cdea61",
   "metadata": {
    "hidden": true
   },
   "source": [
    "### 1.7.1 Atributos númericos"
   ]
  },
  {
   "cell_type": "code",
   "execution_count": null,
   "id": "e0d7c56a",
   "metadata": {
    "ExecuteTime": {
     "end_time": "2022-06-10T20:57:56.225095Z",
     "start_time": "2022-06-10T20:57:54.831727Z"
    },
    "hidden": true,
    "scrolled": false
   },
   "outputs": [],
   "source": [
    "# Central Tendency - mean, mediana, 25%, 75% // dispersion - std, min, max, \n",
    "ctd1 = num_attributes.describe()\n",
    "\n",
    "#dispersion - range, skew, kurtosis\n",
    "d1 = pd.DataFrame(num_attributes.apply(lambda x: x.max() - x.min())).T\n",
    "d2 = pd.DataFrame(num_attributes.apply(lambda x: x.skew())).T\n",
    "d3 = pd.DataFrame(num_attributes.apply(lambda x: x.kurtosis())).T\n",
    "\n",
    "#join\n",
    "medidas = pd.concat([ctd1, d1, d2, d3]).T.reset_index()\n",
    "medidas.columns = ['attributes', 'count','mean', 'std', 'min', '25%', 'median', '75%', 'max', 'range', 'skew', 'kurtosis']\n",
    "\n",
    "\n",
    "medidas"
   ]
  },
  {
   "cell_type": "code",
   "execution_count": null,
   "id": "f90f0fb8",
   "metadata": {
    "ExecuteTime": {
     "end_time": "2022-06-10T20:58:02.781596Z",
     "start_time": "2022-06-10T20:57:56.226094Z"
    },
    "hidden": true
   },
   "outputs": [],
   "source": [
    "plt.figure(figsize = (30,60))\n",
    "num_attributes.hist(bins= 25, color= 'indianred');"
   ]
  },
  {
   "cell_type": "markdown",
   "id": "c94eef70",
   "metadata": {
    "heading_collapsed": true,
    "hidden": true
   },
   "source": [
    "### 1.7.2 Atributos categóricos"
   ]
  },
  {
   "cell_type": "code",
   "execution_count": null,
   "id": "99cfdb3d",
   "metadata": {
    "ExecuteTime": {
     "end_time": "2022-06-10T20:58:02.939116Z",
     "start_time": "2022-06-10T20:58:02.783126Z"
    },
    "hidden": true,
    "scrolled": true
   },
   "outputs": [],
   "source": [
    "cat_attributes.apply(lambda x: x.unique().shape[0])"
   ]
  },
  {
   "cell_type": "code",
   "execution_count": null,
   "id": "ce1a5542",
   "metadata": {
    "ExecuteTime": {
     "end_time": "2022-06-10T20:58:04.274439Z",
     "start_time": "2022-06-10T20:58:02.940111Z"
    },
    "hidden": true,
    "scrolled": false
   },
   "outputs": [],
   "source": []
  },
  {
   "cell_type": "markdown",
   "id": "ddb78c6f",
   "metadata": {
    "heading_collapsed": true
   },
   "source": [
    "# 2 Feature engineering"
   ]
  },
  {
   "cell_type": "code",
   "execution_count": null,
   "id": "236fcc74",
   "metadata": {
    "ExecuteTime": {
     "end_time": "2022-06-10T20:58:04.351318Z",
     "start_time": "2022-06-10T20:58:04.276427Z"
    },
    "hidden": true
   },
   "outputs": [],
   "source": [
    "df2 = df1.copy()"
   ]
  },
  {
   "cell_type": "markdown",
   "id": "5d88d7e4",
   "metadata": {
    "hidden": true
   },
   "source": [
    "## 2.1 Mapa Mental de hipóteses"
   ]
  },
  {
   "cell_type": "code",
   "execution_count": null,
   "id": "4e1b61b7",
   "metadata": {
    "ExecuteTime": {
     "end_time": "2022-06-10T20:58:04.711076Z",
     "start_time": "2022-06-10T20:58:04.353159Z"
    },
    "hidden": true
   },
   "outputs": [],
   "source": [
    "Image(\"../images/\")"
   ]
  },
  {
   "cell_type": "markdown",
   "id": "82a3db3b",
   "metadata": {
    "ExecuteTime": {
     "end_time": "2022-05-30T22:20:26.848142Z",
     "start_time": "2022-05-30T22:20:26.839756Z"
    },
    "hidden": true
   },
   "source": [
    "## 2.2 Criação das hipóteses"
   ]
  },
  {
   "cell_type": "code",
   "execution_count": null,
   "id": "1a6f1515",
   "metadata": {
    "hidden": true
   },
   "outputs": [],
   "source": []
  },
  {
   "cell_type": "markdown",
   "id": "e1958421",
   "metadata": {
    "hidden": true
   },
   "source": [
    "## 2.3 Lista final de hipóteses"
   ]
  },
  {
   "cell_type": "code",
   "execution_count": null,
   "id": "723ee26c",
   "metadata": {
    "hidden": true
   },
   "outputs": [],
   "source": []
  },
  {
   "cell_type": "markdown",
   "id": "e748c65b",
   "metadata": {
    "heading_collapsed": true,
    "hidden": true
   },
   "source": [
    "## 2.4 Criação de novas variáveis"
   ]
  },
  {
   "cell_type": "code",
   "execution_count": null,
   "id": "d65dc5ca",
   "metadata": {
    "ExecuteTime": {
     "end_time": "2022-06-10T20:59:06.078073Z",
     "start_time": "2022-06-10T20:58:04.714197Z"
    },
    "hidden": true
   },
   "outputs": [],
   "source": []
  },
  {
   "cell_type": "code",
   "execution_count": null,
   "id": "4214250a",
   "metadata": {
    "ExecuteTime": {
     "end_time": "2022-06-10T20:59:06.109368Z",
     "start_time": "2022-06-10T20:59:06.080125Z"
    },
    "hidden": true,
    "scrolled": false
   },
   "outputs": [],
   "source": [
    "df2.head().T"
   ]
  },
  {
   "cell_type": "markdown",
   "id": "88b51e37",
   "metadata": {
    "heading_collapsed": true
   },
   "source": [
    "# 3 Filtragem dos dados"
   ]
  },
  {
   "cell_type": "code",
   "execution_count": null,
   "id": "518c0947",
   "metadata": {
    "ExecuteTime": {
     "end_time": "2022-06-10T20:59:06.360967Z",
     "start_time": "2022-06-10T20:59:06.110233Z"
    },
    "hidden": true
   },
   "outputs": [],
   "source": [
    "df3 = df2.copy()"
   ]
  },
  {
   "cell_type": "markdown",
   "id": "7a623aa8",
   "metadata": {
    "hidden": true
   },
   "source": [
    "## 3.1 Filtragem das linhas"
   ]
  },
  {
   "cell_type": "code",
   "execution_count": null,
   "id": "b31a0143",
   "metadata": {
    "ExecuteTime": {
     "end_time": "2022-06-10T20:59:06.579350Z",
     "start_time": "2022-06-10T20:59:06.363923Z"
    },
    "hidden": true
   },
   "outputs": [],
   "source": []
  },
  {
   "cell_type": "markdown",
   "id": "2577d5ff",
   "metadata": {
    "heading_collapsed": true,
    "hidden": true
   },
   "source": [
    "## 3.2 Filtragem das colunas"
   ]
  },
  {
   "cell_type": "code",
   "execution_count": null,
   "id": "fbaa8ee7",
   "metadata": {
    "ExecuteTime": {
     "end_time": "2022-06-10T20:59:06.720751Z",
     "start_time": "2022-06-10T20:59:06.591293Z"
    },
    "hidden": true
   },
   "outputs": [],
   "source": []
  },
  {
   "cell_type": "markdown",
   "id": "17f1ac89",
   "metadata": {
    "heading_collapsed": true
   },
   "source": [
    "# 4. Análise exploratória de dados (EDA)"
   ]
  },
  {
   "cell_type": "code",
   "execution_count": null,
   "id": "0c576477",
   "metadata": {
    "ExecuteTime": {
     "end_time": "2022-06-10T20:59:06.815300Z",
     "start_time": "2022-06-10T20:59:06.725215Z"
    },
    "hidden": true
   },
   "outputs": [],
   "source": [
    "df4 = df3.copy()"
   ]
  },
  {
   "cell_type": "code",
   "execution_count": null,
   "id": "1dfc9719",
   "metadata": {
    "ExecuteTime": {
     "end_time": "2022-06-10T20:59:06.942857Z",
     "start_time": "2022-06-10T20:59:06.818293Z"
    },
    "hidden": true
   },
   "outputs": [],
   "source": [
    "num_attributes = df4.select_dtypes(include=['int64', 'float64'])\n",
    "cat_attributes = df4.select_dtypes(exclude=['int64', 'float64', 'datetime64[ns]'])"
   ]
  },
  {
   "cell_type": "markdown",
   "id": "f6a0e0fc",
   "metadata": {
    "hidden": true
   },
   "source": [
    "## 4.1 Análise univariada"
   ]
  },
  {
   "cell_type": "markdown",
   "id": "df63a991",
   "metadata": {
    "ExecuteTime": {
     "end_time": "2022-05-31T20:44:33.976764Z",
     "start_time": "2022-05-31T20:44:33.962652Z"
    },
    "hidden": true
   },
   "source": [
    "### 4.1.1 Variável resposta"
   ]
  },
  {
   "cell_type": "code",
   "execution_count": null,
   "id": "7d3be18e",
   "metadata": {
    "ExecuteTime": {
     "end_time": "2022-06-10T20:59:12.390272Z",
     "start_time": "2022-06-10T20:59:06.945339Z"
    },
    "hidden": true
   },
   "outputs": [],
   "source": []
  },
  {
   "cell_type": "markdown",
   "id": "842b36e2",
   "metadata": {
    "ExecuteTime": {
     "end_time": "2022-05-31T20:44:33.976764Z",
     "start_time": "2022-05-31T20:44:33.962652Z"
    },
    "hidden": true
   },
   "source": [
    "### 4.1.2 Variáveis numéricas"
   ]
  },
  {
   "cell_type": "code",
   "execution_count": null,
   "id": "eb1c321e",
   "metadata": {
    "ExecuteTime": {
     "end_time": "2022-06-10T20:59:16.545050Z",
     "start_time": "2022-06-10T20:59:12.391269Z"
    },
    "hidden": true
   },
   "outputs": [],
   "source": []
  },
  {
   "cell_type": "markdown",
   "id": "2ff710f3",
   "metadata": {
    "ExecuteTime": {
     "end_time": "2022-05-31T20:44:33.976764Z",
     "start_time": "2022-05-31T20:44:33.962652Z"
    },
    "hidden": true
   },
   "source": [
    "### 4.1.3 Variável categóricas"
   ]
  },
  {
   "cell_type": "code",
   "execution_count": null,
   "id": "9c7d9958",
   "metadata": {
    "ExecuteTime": {
     "end_time": "2022-06-10T20:59:40.609474Z",
     "start_time": "2022-06-10T20:59:16.547045Z"
    },
    "hidden": true
   },
   "outputs": [],
   "source": []
  },
  {
   "cell_type": "markdown",
   "id": "43322fbb",
   "metadata": {
    "hidden": true
   },
   "source": [
    "## 4.2 Análise bivariada"
   ]
  },
  {
   "cell_type": "markdown",
   "id": "a8d46eb3",
   "metadata": {
    "ExecuteTime": {
     "end_time": "2022-05-30T22:34:11.246191Z",
     "start_time": "2022-05-30T22:34:11.240241Z"
    },
    "hidden": true
   },
   "source": [
    "### Hn: \n",
    "**VERDADEIRA/FALSA**"
   ]
  },
  {
   "cell_type": "code",
   "execution_count": null,
   "id": "be00032a",
   "metadata": {
    "hidden": true
   },
   "outputs": [],
   "source": []
  },
  {
   "cell_type": "markdown",
   "id": "0b3b1d0a",
   "metadata": {
    "hidden": true
   },
   "source": [
    "### 4.2.1 Resumo das hipóteses"
   ]
  },
  {
   "cell_type": "code",
   "execution_count": null,
   "id": "003de512",
   "metadata": {
    "ExecuteTime": {
     "end_time": "2022-06-10T21:00:05.087047Z",
     "start_time": "2022-06-10T21:00:05.075053Z"
    },
    "hidden": true
   },
   "outputs": [],
   "source": [
    "tab =[['Hipoteses', 'Conclusao', 'Relevancia'],\n",
    "      ['H1', 'Falsa', 'Baixa'],  \n",
    "      ['H2', 'Falsa', 'Media'],  \n",
    "      ['H3', 'Falsa', 'Media'],\n",
    "      ['H4', 'Falsa', 'Baixa'],\n",
    "      ['H5', '-', '-'],\n",
    "      ['H6', 'Falsa', 'Baixa'],\n",
    "      ['H7', 'Falsa', 'Media'],\n",
    "      ['H8', 'Falsa', 'Alta'],\n",
    "      ['H9', 'Falsa', 'Alta'],\n",
    "      ['H10', 'Verdadeira', 'Alta'],\n",
    "      ['H11', 'Verdadeira', 'Alta'],\n",
    "      ['H12', 'Verdadeira', 'Baixa'],\n",
    "     ]  \n",
    "print(tabulate( tab, headers='firstrow'))"
   ]
  },
  {
   "cell_type": "markdown",
   "id": "bb50f71b",
   "metadata": {
    "heading_collapsed": true,
    "hidden": true
   },
   "source": [
    "## 4.3 Análise multivariada"
   ]
  },
  {
   "cell_type": "markdown",
   "id": "adf5ddba",
   "metadata": {
    "hidden": true
   },
   "source": [
    "### 4.3.1 Variáveis númericas"
   ]
  },
  {
   "cell_type": "code",
   "execution_count": null,
   "id": "7a22ffbc",
   "metadata": {
    "ExecuteTime": {
     "end_time": "2022-06-10T21:00:07.181788Z",
     "start_time": "2022-06-10T21:00:05.089014Z"
    },
    "hidden": true
   },
   "outputs": [],
   "source": []
  },
  {
   "cell_type": "markdown",
   "id": "43b1b375",
   "metadata": {
    "heading_collapsed": true,
    "hidden": true
   },
   "source": [
    "### 4.3.2 Variáveis categóricas"
   ]
  },
  {
   "cell_type": "code",
   "execution_count": null,
   "id": "e6dc33a7",
   "metadata": {
    "ExecuteTime": {
     "end_time": "2022-06-10T21:00:08.905947Z",
     "start_time": "2022-06-10T21:00:07.183796Z"
    },
    "hidden": true
   },
   "outputs": [],
   "source": []
  },
  {
   "cell_type": "markdown",
   "id": "87f3423f",
   "metadata": {
    "heading_collapsed": true
   },
   "source": [
    "# 5 Preparação dos dados"
   ]
  },
  {
   "cell_type": "code",
   "execution_count": null,
   "id": "21e4ce0e",
   "metadata": {
    "ExecuteTime": {
     "end_time": "2022-06-10T21:00:08.990048Z",
     "start_time": "2022-06-10T21:00:08.908941Z"
    },
    "hidden": true
   },
   "outputs": [],
   "source": [
    "df5 = df4.copy()"
   ]
  },
  {
   "cell_type": "markdown",
   "id": "b86fa0d6",
   "metadata": {
    "hidden": true
   },
   "source": [
    "## 5.1 Normalização"
   ]
  },
  {
   "cell_type": "code",
   "execution_count": null,
   "id": "b1a87371",
   "metadata": {
    "hidden": true
   },
   "outputs": [],
   "source": []
  },
  {
   "cell_type": "markdown",
   "id": "3b881410",
   "metadata": {
    "hidden": true
   },
   "source": [
    "## 5.2 Rescaling"
   ]
  },
  {
   "cell_type": "code",
   "execution_count": null,
   "id": "106a9f9b",
   "metadata": {
    "ExecuteTime": {
     "end_time": "2022-06-13T12:21:07.897330Z",
     "start_time": "2022-06-13T12:21:07.262928Z"
    },
    "hidden": true
   },
   "outputs": [],
   "source": []
  },
  {
   "cell_type": "markdown",
   "id": "3d7fe180",
   "metadata": {
    "heading_collapsed": true,
    "hidden": true
   },
   "source": [
    "## 5.3 Transformação"
   ]
  },
  {
   "cell_type": "markdown",
   "id": "c0a23fbf",
   "metadata": {
    "hidden": true
   },
   "source": [
    "### 5.3.1 Encoding"
   ]
  },
  {
   "cell_type": "code",
   "execution_count": null,
   "id": "59ac8118",
   "metadata": {
    "ExecuteTime": {
     "end_time": "2022-06-13T12:22:47.936939Z",
     "start_time": "2022-06-13T12:22:47.915573Z"
    },
    "hidden": true
   },
   "outputs": [],
   "source": []
  },
  {
   "cell_type": "markdown",
   "id": "02437291",
   "metadata": {
    "hidden": true
   },
   "source": [
    "### 5.3.2 Transformação da variável resposta"
   ]
  },
  {
   "cell_type": "code",
   "execution_count": null,
   "id": "e65f84c6",
   "metadata": {
    "ExecuteTime": {
     "end_time": "2022-06-10T21:00:09.999714Z",
     "start_time": "2022-06-10T21:00:09.955831Z"
    },
    "hidden": true
   },
   "outputs": [],
   "source": []
  },
  {
   "cell_type": "markdown",
   "id": "bf0e358c",
   "metadata": {
    "heading_collapsed": true,
    "hidden": true
   },
   "source": [
    "### 5.3.3 Transformação de natureza"
   ]
  },
  {
   "cell_type": "code",
   "execution_count": null,
   "id": "4df82f57",
   "metadata": {
    "ExecuteTime": {
     "end_time": "2022-06-10T21:00:18.034397Z",
     "start_time": "2022-06-10T21:00:10.001708Z"
    },
    "hidden": true
   },
   "outputs": [],
   "source": []
  },
  {
   "cell_type": "markdown",
   "id": "8ad24b4c",
   "metadata": {
    "heading_collapsed": true
   },
   "source": [
    "# 6 Seleção de variáveis"
   ]
  },
  {
   "cell_type": "code",
   "execution_count": null,
   "id": "5bc0eeed",
   "metadata": {
    "ExecuteTime": {
     "end_time": "2022-06-10T21:00:18.256616Z",
     "start_time": "2022-06-10T21:00:18.038745Z"
    },
    "hidden": true
   },
   "outputs": [],
   "source": [
    "df6 = df5.copy()"
   ]
  },
  {
   "cell_type": "markdown",
   "id": "7e857893",
   "metadata": {
    "hidden": true
   },
   "source": [
    "## 6.1 Separação do conjunto de dados em treino e teste"
   ]
  },
  {
   "cell_type": "code",
   "execution_count": null,
   "id": "d5e0d0c4",
   "metadata": {
    "ExecuteTime": {
     "end_time": "2022-06-10T21:00:18.377232Z",
     "start_time": "2022-06-10T21:00:18.259015Z"
    },
    "hidden": true
   },
   "outputs": [],
   "source": []
  },
  {
   "cell_type": "markdown",
   "id": "83b8a529",
   "metadata": {
    "hidden": true
   },
   "source": [
    "## 6.2 Feature selector"
   ]
  },
  {
   "cell_type": "code",
   "execution_count": null,
   "id": "767e7b7e",
   "metadata": {
    "ExecuteTime": {
     "end_time": "2022-06-10T21:00:18.558292Z",
     "start_time": "2022-06-10T21:00:18.536544Z"
    },
    "hidden": true
   },
   "outputs": [],
   "source": []
  },
  {
   "cell_type": "markdown",
   "id": "3705d684",
   "metadata": {
    "heading_collapsed": true,
    "hidden": true
   },
   "source": [
    "## 6.3 Seleção de variáveis manual após feature selector"
   ]
  },
  {
   "cell_type": "code",
   "execution_count": null,
   "id": "47bdf2cc",
   "metadata": {
    "ExecuteTime": {
     "end_time": "2022-06-10T21:00:18.611307Z",
     "start_time": "2022-06-10T21:00:18.586924Z"
    },
    "hidden": true
   },
   "outputs": [],
   "source": []
  },
  {
   "cell_type": "markdown",
   "id": "e53791df",
   "metadata": {
    "heading_collapsed": true
   },
   "source": [
    "# 7 Machine learning"
   ]
  },
  {
   "cell_type": "code",
   "execution_count": null,
   "id": "7cbba647",
   "metadata": {
    "ExecuteTime": {
     "end_time": "2022-06-10T21:00:18.754060Z",
     "start_time": "2022-06-10T21:00:18.613603Z"
    },
    "hidden": true
   },
   "outputs": [],
   "source": []
  },
  {
   "cell_type": "markdown",
   "id": "22b72c7a",
   "metadata": {
    "hidden": true
   },
   "source": [
    "## 7.1 Modelo-n"
   ]
  },
  {
   "cell_type": "code",
   "execution_count": null,
   "id": "b573ab4e",
   "metadata": {
    "ExecuteTime": {
     "end_time": "2022-06-10T19:42:07.723977Z",
     "start_time": "2022-06-10T19:42:07.629265Z"
    },
    "hidden": true
   },
   "outputs": [],
   "source": []
  },
  {
   "cell_type": "markdown",
   "id": "690f097d",
   "metadata": {
    "heading_collapsed": true,
    "hidden": true
   },
   "source": [
    "## 7.6 Comparando a perfomance dos modelos"
   ]
  },
  {
   "cell_type": "markdown",
   "id": "ae657c4c",
   "metadata": {
    "hidden": true
   },
   "source": [
    "### 7.6.1 Performance única fold"
   ]
  },
  {
   "cell_type": "code",
   "execution_count": null,
   "id": "ff73d513",
   "metadata": {
    "ExecuteTime": {
     "end_time": "2022-06-09T14:50:25.445049Z",
     "start_time": "2022-06-09T14:50:25.425104Z"
    },
    "hidden": true,
    "scrolled": true
   },
   "outputs": [],
   "source": []
  },
  {
   "cell_type": "markdown",
   "id": "def771de",
   "metadata": {
    "heading_collapsed": true,
    "hidden": true
   },
   "source": [
    "### 7.6.2 Performance cross validation"
   ]
  },
  {
   "cell_type": "code",
   "execution_count": null,
   "id": "89a83625",
   "metadata": {
    "ExecuteTime": {
     "end_time": "2022-06-09T18:18:38.461062Z",
     "start_time": "2022-06-09T18:18:38.447174Z"
    },
    "hidden": true,
    "scrolled": false
   },
   "outputs": [],
   "source": []
  },
  {
   "cell_type": "markdown",
   "id": "8cf4668b",
   "metadata": {
    "heading_collapsed": true
   },
   "source": [
    "# 8 Otimizando dos hiperparâmetros"
   ]
  },
  {
   "cell_type": "markdown",
   "id": "3793d6bb",
   "metadata": {
    "hidden": true
   },
   "source": [
    "## 8.1 Método otimizador"
   ]
  },
  {
   "cell_type": "code",
   "execution_count": null,
   "id": "5a8a768a",
   "metadata": {
    "ExecuteTime": {
     "end_time": "2022-06-09T19:38:21.607778Z",
     "start_time": "2022-06-09T19:38:21.574382Z"
    },
    "hidden": true
   },
   "outputs": [],
   "source": []
  },
  {
   "cell_type": "markdown",
   "id": "11476303",
   "metadata": {
    "heading_collapsed": true,
    "hidden": true
   },
   "source": [
    "## 8.2 Modelo final tunado"
   ]
  },
  {
   "cell_type": "code",
   "execution_count": null,
   "id": "7cca6a34",
   "metadata": {
    "ExecuteTime": {
     "end_time": "2022-06-10T21:02:00.500816Z",
     "start_time": "2022-06-10T21:02:00.485442Z"
    },
    "hidden": true
   },
   "outputs": [],
   "source": []
  },
  {
   "cell_type": "markdown",
   "id": "de247ca0",
   "metadata": {
    "hidden": true
   },
   "source": [
    "Tempo de execução: 1h09"
   ]
  },
  {
   "cell_type": "markdown",
   "id": "3866d5bc",
   "metadata": {
    "heading_collapsed": true
   },
   "source": [
    "# 9 Interpretação e tradução do erro"
   ]
  },
  {
   "cell_type": "code",
   "execution_count": null,
   "id": "32b165cf",
   "metadata": {
    "ExecuteTime": {
     "end_time": "2022-06-11T18:59:06.946348Z",
     "start_time": "2022-06-11T18:59:06.800502Z"
    },
    "hidden": true
   },
   "outputs": [],
   "source": []
  },
  {
   "cell_type": "markdown",
   "id": "3bd5fb63",
   "metadata": {
    "heading_collapsed": true,
    "hidden": true
   },
   "source": [
    "## 9.1 Performance do negócio"
   ]
  },
  {
   "cell_type": "code",
   "execution_count": null,
   "id": "4aa6ec5e",
   "metadata": {
    "ExecuteTime": {
     "end_time": "2022-06-11T19:30:23.557524Z",
     "start_time": "2022-06-11T19:30:22.790473Z"
    },
    "hidden": true
   },
   "outputs": [],
   "source": []
  },
  {
   "cell_type": "markdown",
   "id": "9d28f875",
   "metadata": {
    "heading_collapsed": true
   },
   "source": [
    "# 10 Deployment do modelo em produção"
   ]
  },
  {
   "cell_type": "code",
   "execution_count": null,
   "id": "fe1a038c",
   "metadata": {
    "ExecuteTime": {
     "end_time": "2022-06-13T12:06:30.330230Z",
     "start_time": "2022-06-13T12:06:28.022710Z"
    },
    "hidden": true
   },
   "outputs": [],
   "source": [
    "# Save Trained Model\n"
   ]
  },
  {
   "cell_type": "markdown",
   "id": "c21f7706",
   "metadata": {
    "heading_collapsed": true,
    "hidden": true
   },
   "source": [
    "## 10.1 Model class"
   ]
  },
  {
   "cell_type": "code",
   "execution_count": null,
   "id": "4dc39316",
   "metadata": {
    "ExecuteTime": {
     "end_time": "2022-06-13T14:23:41.537029Z",
     "start_time": "2022-06-13T14:23:41.494113Z"
    },
    "hidden": true
   },
   "outputs": [],
   "source": [
    "                              "
   ]
  },
  {
   "cell_type": "markdown",
   "id": "4f17feb3",
   "metadata": {
    "heading_collapsed": true,
    "hidden": true
   },
   "source": [
    "## 10.2 API handler"
   ]
  },
  {
   "cell_type": "code",
   "execution_count": null,
   "id": "ebb4acbc",
   "metadata": {
    "ExecuteTime": {
     "end_time": "2022-06-13T14:23:33.669234Z",
     "start_time": "2022-06-13T14:23:33.466242Z"
    },
    "hidden": true
   },
   "outputs": [],
   "source": []
  },
  {
   "cell_type": "markdown",
   "id": "b972c36a",
   "metadata": {
    "heading_collapsed": true,
    "hidden": true
   },
   "source": [
    "## 10.3 API tester"
   ]
  },
  {
   "cell_type": "code",
   "execution_count": null,
   "id": "0508be38",
   "metadata": {
    "ExecuteTime": {
     "end_time": "2022-06-13T20:50:44.263240Z",
     "start_time": "2022-06-13T20:50:44.196138Z"
    },
    "hidden": true
   },
   "outputs": [],
   "source": []
  }
 ],
 "metadata": {
  "kernelspec": {
   "display_name": "Python 3 (ipykernel)",
   "language": "python",
   "name": "python3"
  },
  "language_info": {
   "codemirror_mode": {
    "name": "ipython",
    "version": 3
   },
   "file_extension": ".py",
   "mimetype": "text/x-python",
   "name": "python",
   "nbconvert_exporter": "python",
   "pygments_lexer": "ipython3",
   "version": "3.10.6"
  },
  "varInspector": {
   "cols": {
    "lenName": 16,
    "lenType": 16,
    "lenVar": 40
   },
   "kernels_config": {
    "python": {
     "delete_cmd_postfix": "",
     "delete_cmd_prefix": "del ",
     "library": "var_list.py",
     "varRefreshCmd": "print(var_dic_list())"
    },
    "r": {
     "delete_cmd_postfix": ") ",
     "delete_cmd_prefix": "rm(",
     "library": "var_list.r",
     "varRefreshCmd": "cat(var_dic_list()) "
    }
   },
   "types_to_exclude": [
    "module",
    "function",
    "builtin_function_or_method",
    "instance",
    "_Feature"
   ],
   "window_display": false
  }
 },
 "nbformat": 4,
 "nbformat_minor": 5
}
