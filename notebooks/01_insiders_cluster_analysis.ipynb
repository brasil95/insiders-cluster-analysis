{
 "cells": [
  {
   "cell_type": "markdown",
   "id": "e2df8641",
   "metadata": {},
   "source": [
    "# 0 Imports"
   ]
  },
  {
   "cell_type": "code",
   "execution_count": 1,
   "id": "165c5d4a",
   "metadata": {
    "ExecuteTime": {
     "end_time": "2022-11-07T22:46:28.645371Z",
     "start_time": "2022-11-07T22:46:22.485754Z"
    }
   },
   "outputs": [],
   "source": [
    "import numpy   as np\n",
    "import pandas  as pd\n",
    "import seaborn as sns\n",
    "\n",
    "import datetime\n",
    "import warnings\n",
    "import inflection\n",
    "\n",
    "from datetime             import datetime\n",
    "from matplotlib           import pyplot as plt\n",
    "from matplotlib.gridspec  import GridSpec\n",
    "from IPython.display      import Image\n",
    "from IPython.core.display import HTML\n",
    "\n",
    "from sklearn.cluster     import KMeans\n",
    "from yellowbrick.cluster import KElbowVisualizer\n",
    "\n",
    "warnings.filterwarnings( 'ignore' )"
   ]
  },
  {
   "cell_type": "markdown",
   "id": "7e3fd84d",
   "metadata": {},
   "source": [
    "## 0.1 Funções auxiliares"
   ]
  },
  {
   "cell_type": "code",
   "execution_count": 2,
   "id": "99889a1a",
   "metadata": {
    "ExecuteTime": {
     "end_time": "2022-11-07T22:46:28.660694Z",
     "start_time": "2022-11-07T22:46:28.649797Z"
    }
   },
   "outputs": [],
   "source": [
    "def jupyter_settings():\n",
    "    %matplotlib inline\n",
    "    \n",
    "    plt.style.use( 'bmh' )\n",
    "    plt.rcParams['figure.figsize'] = [14, 5]\n",
    "    plt.rcParams['font.size'] = 18\n",
    "    sns.set_palette(\"Reds\") \n",
    "    \n",
    "    display(HTML( '<style>.container { width:100% !important; }</style>'))\n",
    "    pd.options.display.max_columns = None\n",
    "    pd.options.display.max_rows = None\n",
    "    pd.set_option( 'display.expand_frame_repr', False )\n",
    "    \n",
    "    sns.set()"
   ]
  },
  {
   "cell_type": "code",
   "execution_count": 3,
   "id": "4895a24a",
   "metadata": {
    "ExecuteTime": {
     "end_time": "2022-11-07T22:46:28.722099Z",
     "start_time": "2022-11-07T22:46:28.663031Z"
    }
   },
   "outputs": [
    {
     "data": {
      "text/html": [
       "<style>.container { width:100% !important; }</style>"
      ],
      "text/plain": [
       "<IPython.core.display.HTML object>"
      ]
     },
     "metadata": {},
     "output_type": "display_data"
    }
   ],
   "source": [
    "jupyter_settings()"
   ]
  },
  {
   "cell_type": "markdown",
   "id": "9d5ccde4",
   "metadata": {},
   "source": [
    "## 0.2 Carregamento dos dados"
   ]
  },
  {
   "cell_type": "code",
   "execution_count": 4,
   "id": "54d26b8e",
   "metadata": {
    "ExecuteTime": {
     "end_time": "2022-11-07T22:46:30.236380Z",
     "start_time": "2022-11-07T22:46:28.729014Z"
    }
   },
   "outputs": [],
   "source": [
    "df_raw = pd.read_csv('../inputs/data.csv', encoding= 'unicode_escape')"
   ]
  },
  {
   "cell_type": "code",
   "execution_count": 5,
   "id": "ef17342e",
   "metadata": {
    "ExecuteTime": {
     "end_time": "2022-11-07T22:46:30.314217Z",
     "start_time": "2022-11-07T22:46:30.241520Z"
    }
   },
   "outputs": [
    {
     "data": {
      "text/html": [
       "<div>\n",
       "<style scoped>\n",
       "    .dataframe tbody tr th:only-of-type {\n",
       "        vertical-align: middle;\n",
       "    }\n",
       "\n",
       "    .dataframe tbody tr th {\n",
       "        vertical-align: top;\n",
       "    }\n",
       "\n",
       "    .dataframe thead th {\n",
       "        text-align: right;\n",
       "    }\n",
       "</style>\n",
       "<table border=\"1\" class=\"dataframe\">\n",
       "  <thead>\n",
       "    <tr style=\"text-align: right;\">\n",
       "      <th></th>\n",
       "      <th>InvoiceNo</th>\n",
       "      <th>StockCode</th>\n",
       "      <th>Description</th>\n",
       "      <th>Quantity</th>\n",
       "      <th>InvoiceDate</th>\n",
       "      <th>UnitPrice</th>\n",
       "      <th>CustomerID</th>\n",
       "      <th>Country</th>\n",
       "    </tr>\n",
       "  </thead>\n",
       "  <tbody>\n",
       "    <tr>\n",
       "      <th>302479</th>\n",
       "      <td>563432</td>\n",
       "      <td>23300</td>\n",
       "      <td>GARDENERS KNEELING PAD CUP OF TEA</td>\n",
       "      <td>3</td>\n",
       "      <td>8/16/2011 12:12</td>\n",
       "      <td>1.65</td>\n",
       "      <td>16713.0</td>\n",
       "      <td>United Kingdom</td>\n",
       "    </tr>\n",
       "    <tr>\n",
       "      <th>246432</th>\n",
       "      <td>558700</td>\n",
       "      <td>21243</td>\n",
       "      <td>PINK  POLKADOT PLATE</td>\n",
       "      <td>1</td>\n",
       "      <td>7/1/2011 12:33</td>\n",
       "      <td>1.69</td>\n",
       "      <td>17920.0</td>\n",
       "      <td>United Kingdom</td>\n",
       "    </tr>\n",
       "    <tr>\n",
       "      <th>237605</th>\n",
       "      <td>C557876</td>\n",
       "      <td>23245</td>\n",
       "      <td>SET OF 3 REGENCY CAKE TINS</td>\n",
       "      <td>-1</td>\n",
       "      <td>6/23/2011 13:10</td>\n",
       "      <td>4.95</td>\n",
       "      <td>18223.0</td>\n",
       "      <td>United Kingdom</td>\n",
       "    </tr>\n",
       "    <tr>\n",
       "      <th>185395</th>\n",
       "      <td>552815</td>\n",
       "      <td>22847</td>\n",
       "      <td>BREAD BIN DINER STYLE IVORY</td>\n",
       "      <td>1</td>\n",
       "      <td>5/11/2011 12:46</td>\n",
       "      <td>16.95</td>\n",
       "      <td>17677.0</td>\n",
       "      <td>United Kingdom</td>\n",
       "    </tr>\n",
       "    <tr>\n",
       "      <th>369425</th>\n",
       "      <td>569028</td>\n",
       "      <td>23350</td>\n",
       "      <td>ROLL WRAP VINTAGE SPOT</td>\n",
       "      <td>12</td>\n",
       "      <td>9/30/2011 10:20</td>\n",
       "      <td>1.25</td>\n",
       "      <td>14911.0</td>\n",
       "      <td>EIRE</td>\n",
       "    </tr>\n",
       "    <tr>\n",
       "      <th>82039</th>\n",
       "      <td>C543185</td>\n",
       "      <td>22332</td>\n",
       "      <td>SKULLS PARTY BAG + STICKER SET</td>\n",
       "      <td>-14</td>\n",
       "      <td>2/4/2011 11:22</td>\n",
       "      <td>1.65</td>\n",
       "      <td>NaN</td>\n",
       "      <td>United Kingdom</td>\n",
       "    </tr>\n",
       "    <tr>\n",
       "      <th>189319</th>\n",
       "      <td>553148</td>\n",
       "      <td>47599A</td>\n",
       "      <td>PINK PARTY BAGS</td>\n",
       "      <td>6</td>\n",
       "      <td>5/13/2011 14:09</td>\n",
       "      <td>2.10</td>\n",
       "      <td>NaN</td>\n",
       "      <td>Hong Kong</td>\n",
       "    </tr>\n",
       "    <tr>\n",
       "      <th>140811</th>\n",
       "      <td>548468</td>\n",
       "      <td>84625C</td>\n",
       "      <td>BLUE NEW BAROQUE CANDLESTICK CANDLE</td>\n",
       "      <td>2</td>\n",
       "      <td>3/31/2011 12:28</td>\n",
       "      <td>2.95</td>\n",
       "      <td>14818.0</td>\n",
       "      <td>United Kingdom</td>\n",
       "    </tr>\n",
       "    <tr>\n",
       "      <th>119533</th>\n",
       "      <td>546549</td>\n",
       "      <td>22055</td>\n",
       "      <td>MINI CAKE STAND  HANGING STRAWBERY</td>\n",
       "      <td>2</td>\n",
       "      <td>3/14/2011 16:46</td>\n",
       "      <td>1.65</td>\n",
       "      <td>17799.0</td>\n",
       "      <td>United Kingdom</td>\n",
       "    </tr>\n",
       "    <tr>\n",
       "      <th>424248</th>\n",
       "      <td>573248</td>\n",
       "      <td>22867</td>\n",
       "      <td>HAND WARMER BIRD DESIGN</td>\n",
       "      <td>2</td>\n",
       "      <td>10/28/2011 12:09</td>\n",
       "      <td>2.10</td>\n",
       "      <td>14498.0</td>\n",
       "      <td>United Kingdom</td>\n",
       "    </tr>\n",
       "  </tbody>\n",
       "</table>\n",
       "</div>"
      ],
      "text/plain": [
       "       InvoiceNo StockCode                          Description  Quantity       InvoiceDate  UnitPrice  CustomerID         Country\n",
       "302479    563432     23300   GARDENERS KNEELING PAD CUP OF TEA          3   8/16/2011 12:12       1.65     16713.0  United Kingdom\n",
       "246432    558700     21243                PINK  POLKADOT PLATE          1    7/1/2011 12:33       1.69     17920.0  United Kingdom\n",
       "237605   C557876     23245           SET OF 3 REGENCY CAKE TINS        -1   6/23/2011 13:10       4.95     18223.0  United Kingdom\n",
       "185395    552815     22847          BREAD BIN DINER STYLE IVORY         1   5/11/2011 12:46      16.95     17677.0  United Kingdom\n",
       "369425    569028     23350              ROLL WRAP VINTAGE SPOT         12   9/30/2011 10:20       1.25     14911.0            EIRE\n",
       "82039    C543185     22332       SKULLS PARTY BAG + STICKER SET       -14    2/4/2011 11:22       1.65         NaN  United Kingdom\n",
       "189319    553148    47599A                      PINK PARTY BAGS         6   5/13/2011 14:09       2.10         NaN       Hong Kong\n",
       "140811    548468    84625C  BLUE NEW BAROQUE CANDLESTICK CANDLE         2   3/31/2011 12:28       2.95     14818.0  United Kingdom\n",
       "119533    546549     22055   MINI CAKE STAND  HANGING STRAWBERY         2   3/14/2011 16:46       1.65     17799.0  United Kingdom\n",
       "424248    573248     22867              HAND WARMER BIRD DESIGN         2  10/28/2011 12:09       2.10     14498.0  United Kingdom"
      ]
     },
     "execution_count": 5,
     "metadata": {},
     "output_type": "execute_result"
    }
   ],
   "source": [
    "df_raw.sample(10)"
   ]
  },
  {
   "cell_type": "markdown",
   "id": "02a89b76",
   "metadata": {},
   "source": [
    "# 1 Descrição dos dados"
   ]
  },
  {
   "cell_type": "code",
   "execution_count": 6,
   "id": "926e3d20",
   "metadata": {
    "ExecuteTime": {
     "end_time": "2022-11-07T22:46:30.357301Z",
     "start_time": "2022-11-07T22:46:30.317161Z"
    }
   },
   "outputs": [],
   "source": [
    "df1 = df_raw.copy()"
   ]
  },
  {
   "cell_type": "markdown",
   "id": "57092004",
   "metadata": {},
   "source": [
    "## 1.1 Renomeando colunas"
   ]
  },
  {
   "cell_type": "code",
   "execution_count": 7,
   "id": "f0a73175",
   "metadata": {
    "ExecuteTime": {
     "end_time": "2022-11-07T22:46:30.374622Z",
     "start_time": "2022-11-07T22:46:30.363233Z"
    }
   },
   "outputs": [],
   "source": [
    "snakecase = lambda x: inflection.underscore(x)\n",
    "\n",
    "cols_new = list(map(snakecase, df1.columns))\n",
    "\n",
    "#rename\n",
    "df1.columns = cols_new"
   ]
  },
  {
   "cell_type": "markdown",
   "id": "dffcf4e0",
   "metadata": {},
   "source": [
    "## 1.2 Dimensão dos dados"
   ]
  },
  {
   "cell_type": "code",
   "execution_count": 8,
   "id": "4798a4a8",
   "metadata": {
    "ExecuteTime": {
     "end_time": "2022-11-07T22:46:30.397888Z",
     "start_time": "2022-11-07T22:46:30.379765Z"
    }
   },
   "outputs": [
    {
     "name": "stdout",
     "output_type": "stream",
     "text": [
      "Núm de Linhas: 541909\n",
      "Núm de Colunas: 8\n"
     ]
    }
   ],
   "source": [
    "print('Núm de Linhas: {}'.format(df1.shape[0]))\n",
    "print('Núm de Colunas: {}'.format(df1.shape[1]))"
   ]
  },
  {
   "cell_type": "markdown",
   "id": "47c2fe5e",
   "metadata": {},
   "source": [
    "## 1.3 Tipo dos dados"
   ]
  },
  {
   "cell_type": "code",
   "execution_count": 9,
   "id": "5828a91e",
   "metadata": {
    "ExecuteTime": {
     "end_time": "2022-11-07T22:46:30.422198Z",
     "start_time": "2022-11-07T22:46:30.402341Z"
    }
   },
   "outputs": [
    {
     "data": {
      "text/plain": [
       "invoice_no       object\n",
       "stock_code       object\n",
       "description      object\n",
       "quantity          int64\n",
       "invoice_date     object\n",
       "unit_price      float64\n",
       "customer_id     float64\n",
       "country          object\n",
       "dtype: object"
      ]
     },
     "execution_count": 9,
     "metadata": {},
     "output_type": "execute_result"
    }
   ],
   "source": [
    "df1.dtypes"
   ]
  },
  {
   "cell_type": "markdown",
   "id": "2e1d2165",
   "metadata": {},
   "source": [
    "## 1.4 Checagem de valores nulos"
   ]
  },
  {
   "cell_type": "code",
   "execution_count": 10,
   "id": "12148441",
   "metadata": {
    "ExecuteTime": {
     "end_time": "2022-11-07T22:46:31.119688Z",
     "start_time": "2022-11-07T22:46:30.428816Z"
    }
   },
   "outputs": [
    {
     "data": {
      "text/plain": [
       "invoice_no           0\n",
       "stock_code           0\n",
       "description       1454\n",
       "quantity             0\n",
       "invoice_date         0\n",
       "unit_price           0\n",
       "customer_id     135080\n",
       "country              0\n",
       "dtype: int64"
      ]
     },
     "execution_count": 10,
     "metadata": {},
     "output_type": "execute_result"
    }
   ],
   "source": [
    "df1.isna().sum()"
   ]
  },
  {
   "cell_type": "markdown",
   "id": "61d334b6",
   "metadata": {},
   "source": [
    "## 1.5 Preenchimento de nulos"
   ]
  },
  {
   "cell_type": "code",
   "execution_count": 11,
   "id": "59c5061d",
   "metadata": {
    "ExecuteTime": {
     "end_time": "2022-11-07T22:46:31.354879Z",
     "start_time": "2022-11-07T22:46:31.125654Z"
    }
   },
   "outputs": [
    {
     "name": "stdout",
     "output_type": "stream",
     "text": [
      "Percentual de dados removidos: 24.93%\n"
     ]
    }
   ],
   "source": [
    "df1 = df1.dropna(subset=['description', 'customer_id'])\n",
    "print('Percentual de dados removidos: {:.2f}%'.format((1 - (df1.shape[0] / df_raw.shape[0]))*100))"
   ]
  },
  {
   "cell_type": "markdown",
   "id": "2df27777",
   "metadata": {},
   "source": [
    "## 1.6 Mudando tipo dos dados"
   ]
  },
  {
   "cell_type": "code",
   "execution_count": 12,
   "id": "6e111064",
   "metadata": {
    "ExecuteTime": {
     "end_time": "2022-11-07T22:46:32.058070Z",
     "start_time": "2022-11-07T22:46:31.360208Z"
    }
   },
   "outputs": [],
   "source": [
    "# invoice_date\n",
    "df1['invoice_date'] = pd.to_datetime(df1['invoice_date'], infer_datetime_format=True).dt.date.astype('datetime64')\n",
    "\n",
    "# customer_id \n",
    "df1['customer_id'] = df1['customer_id'].astype('int64').astype('object')"
   ]
  },
  {
   "cell_type": "code",
   "execution_count": 13,
   "id": "0cc11aee",
   "metadata": {
    "ExecuteTime": {
     "end_time": "2022-11-07T22:46:32.091389Z",
     "start_time": "2022-11-07T22:46:32.064277Z"
    }
   },
   "outputs": [
    {
     "data": {
      "text/plain": [
       "invoice_no              object\n",
       "stock_code              object\n",
       "description             object\n",
       "quantity                 int64\n",
       "invoice_date    datetime64[ns]\n",
       "unit_price             float64\n",
       "customer_id             object\n",
       "country                 object\n",
       "dtype: object"
      ]
     },
     "execution_count": 13,
     "metadata": {},
     "output_type": "execute_result"
    }
   ],
   "source": [
    "df1.dtypes"
   ]
  },
  {
   "cell_type": "markdown",
   "id": "c4b071cd",
   "metadata": {
    "heading_collapsed": true
   },
   "source": [
    "## 1.7 Análise descritiva"
   ]
  },
  {
   "cell_type": "code",
   "execution_count": null,
   "id": "1e64f12f",
   "metadata": {
    "ExecuteTime": {
     "end_time": "2022-06-10T20:57:54.797852Z",
     "start_time": "2022-06-10T20:57:54.642522Z"
    },
    "hidden": true
   },
   "outputs": [],
   "source": [
    "num_attributes = df1.select_dtypes(include=['int64', 'float64'])\n",
    "cat_attributes = df1.select_dtypes(exclude=['int64', 'float64', 'datetime64[ns]'])"
   ]
  },
  {
   "cell_type": "code",
   "execution_count": null,
   "id": "089f4e67",
   "metadata": {
    "ExecuteTime": {
     "end_time": "2022-06-10T20:57:54.814118Z",
     "start_time": "2022-06-10T20:57:54.800370Z"
    },
    "hidden": true
   },
   "outputs": [],
   "source": [
    "num_attributes.columns"
   ]
  },
  {
   "cell_type": "code",
   "execution_count": null,
   "id": "6f7684cc",
   "metadata": {
    "ExecuteTime": {
     "end_time": "2022-06-10T20:57:54.829498Z",
     "start_time": "2022-06-10T20:57:54.816134Z"
    },
    "hidden": true
   },
   "outputs": [],
   "source": [
    "cat_attributes.columns"
   ]
  },
  {
   "cell_type": "markdown",
   "id": "73cdea61",
   "metadata": {
    "heading_collapsed": true,
    "hidden": true
   },
   "source": [
    "### 1.7.1 Atributos númericos"
   ]
  },
  {
   "cell_type": "code",
   "execution_count": null,
   "id": "e0d7c56a",
   "metadata": {
    "ExecuteTime": {
     "end_time": "2022-06-10T20:57:56.225095Z",
     "start_time": "2022-06-10T20:57:54.831727Z"
    },
    "hidden": true,
    "scrolled": false
   },
   "outputs": [],
   "source": [
    "# Central Tendency - mean, mediana, 25%, 75% // dispersion - std, min, max, \n",
    "ctd1 = num_attributes.describe()\n",
    "\n",
    "#dispersion - range, skew, kurtosis\n",
    "d1 = pd.DataFrame(num_attributes.apply(lambda x: x.max() - x.min())).T\n",
    "d2 = pd.DataFrame(num_attributes.apply(lambda x: x.skew())).T\n",
    "d3 = pd.DataFrame(num_attributes.apply(lambda x: x.kurtosis())).T\n",
    "\n",
    "#join\n",
    "medidas = pd.concat([ctd1, d1, d2, d3]).T.reset_index()\n",
    "medidas.columns = ['attributes', 'count','mean', 'std', 'min', '25%', 'median', '75%', 'max', 'range', 'skew', 'kurtosis']\n",
    "\n",
    "\n",
    "medidas"
   ]
  },
  {
   "cell_type": "code",
   "execution_count": null,
   "id": "f90f0fb8",
   "metadata": {
    "ExecuteTime": {
     "end_time": "2022-06-10T20:58:02.781596Z",
     "start_time": "2022-06-10T20:57:56.226094Z"
    },
    "hidden": true
   },
   "outputs": [],
   "source": [
    "plt.figure(figsize = (30,60))\n",
    "num_attributes.hist(bins= 25, color= 'indianred');"
   ]
  },
  {
   "cell_type": "markdown",
   "id": "c94eef70",
   "metadata": {
    "heading_collapsed": true,
    "hidden": true
   },
   "source": [
    "### 1.7.2 Atributos categóricos"
   ]
  },
  {
   "cell_type": "code",
   "execution_count": null,
   "id": "99cfdb3d",
   "metadata": {
    "ExecuteTime": {
     "end_time": "2022-06-10T20:58:02.939116Z",
     "start_time": "2022-06-10T20:58:02.783126Z"
    },
    "hidden": true,
    "scrolled": true
   },
   "outputs": [],
   "source": [
    "cat_attributes.apply(lambda x: x.unique().shape[0])"
   ]
  },
  {
   "cell_type": "code",
   "execution_count": null,
   "id": "ce1a5542",
   "metadata": {
    "ExecuteTime": {
     "end_time": "2022-06-10T20:58:04.274439Z",
     "start_time": "2022-06-10T20:58:02.940111Z"
    },
    "hidden": true,
    "scrolled": false
   },
   "outputs": [],
   "source": []
  },
  {
   "cell_type": "markdown",
   "id": "ddb78c6f",
   "metadata": {},
   "source": [
    "# 2 Feature engineering"
   ]
  },
  {
   "cell_type": "code",
   "execution_count": 14,
   "id": "236fcc74",
   "metadata": {
    "ExecuteTime": {
     "end_time": "2022-11-07T22:46:32.184441Z",
     "start_time": "2022-11-07T22:46:32.096627Z"
    }
   },
   "outputs": [],
   "source": [
    "df2 = df1.copy()"
   ]
  },
  {
   "cell_type": "markdown",
   "id": "5d88d7e4",
   "metadata": {
    "heading_collapsed": true
   },
   "source": [
    "## 2.1 Mapa Mental de hipóteses"
   ]
  },
  {
   "cell_type": "code",
   "execution_count": null,
   "id": "4e1b61b7",
   "metadata": {
    "ExecuteTime": {
     "end_time": "2022-06-10T20:58:04.711076Z",
     "start_time": "2022-06-10T20:58:04.353159Z"
    },
    "hidden": true
   },
   "outputs": [],
   "source": [
    "Image(\"../images/\")"
   ]
  },
  {
   "cell_type": "markdown",
   "id": "82a3db3b",
   "metadata": {
    "ExecuteTime": {
     "end_time": "2022-05-30T22:20:26.848142Z",
     "start_time": "2022-05-30T22:20:26.839756Z"
    },
    "heading_collapsed": true
   },
   "source": [
    "## 2.2 Criação das hipóteses"
   ]
  },
  {
   "cell_type": "code",
   "execution_count": null,
   "id": "1a6f1515",
   "metadata": {
    "hidden": true
   },
   "outputs": [],
   "source": []
  },
  {
   "cell_type": "markdown",
   "id": "e1958421",
   "metadata": {
    "heading_collapsed": true
   },
   "source": [
    "## 2.3 Lista final de hipóteses"
   ]
  },
  {
   "cell_type": "code",
   "execution_count": null,
   "id": "723ee26c",
   "metadata": {
    "hidden": true
   },
   "outputs": [],
   "source": []
  },
  {
   "cell_type": "markdown",
   "id": "e748c65b",
   "metadata": {},
   "source": [
    "## 2.4 Criação de novas variáveis"
   ]
  },
  {
   "cell_type": "code",
   "execution_count": 15,
   "id": "d65dc5ca",
   "metadata": {
    "ExecuteTime": {
     "end_time": "2022-11-07T22:46:32.662702Z",
     "start_time": "2022-11-07T22:46:32.185650Z"
    }
   },
   "outputs": [],
   "source": [
    "# df de referência \n",
    "df_ref = df2[['customer_id']].drop_duplicates(ignore_index=True)\n",
    "\n",
    "# revenue = quantity * price\n",
    "df2['revenue'] = df2['quantity'] * df2['unit_price']\n",
    "\n",
    "# monetary\n",
    "df_monetary = df2.groupby('customer_id')['revenue'].sum().reset_index()\n",
    "\n",
    "# recency\n",
    "df_recency = df2.groupby('customer_id')['invoice_date'].max().reset_index()\n",
    "df_recency['recency_days'] = (df2['invoice_date'].max() - df_recency['invoice_date']).dt.days\n",
    "\n",
    "# frequency\n",
    "df_frequency = df2.groupby('customer_id')['invoice_no'].nunique().reset_index()\n",
    "\n",
    "# join\n",
    "c_id = 'customer_id'\n",
    "df_ref = df_ref.merge(df_monetary, on=c_id, how='left').merge(df_recency, on=c_id, how='left').merge(df_frequency, on=c_id, how='left')"
   ]
  },
  {
   "cell_type": "code",
   "execution_count": 16,
   "id": "4214250a",
   "metadata": {
    "ExecuteTime": {
     "end_time": "2022-11-07T22:46:32.703626Z",
     "start_time": "2022-11-07T22:46:32.671556Z"
    },
    "scrolled": false
   },
   "outputs": [
    {
     "data": {
      "text/html": [
       "<div>\n",
       "<style scoped>\n",
       "    .dataframe tbody tr th:only-of-type {\n",
       "        vertical-align: middle;\n",
       "    }\n",
       "\n",
       "    .dataframe tbody tr th {\n",
       "        vertical-align: top;\n",
       "    }\n",
       "\n",
       "    .dataframe thead th {\n",
       "        text-align: right;\n",
       "    }\n",
       "</style>\n",
       "<table border=\"1\" class=\"dataframe\">\n",
       "  <thead>\n",
       "    <tr style=\"text-align: right;\">\n",
       "      <th></th>\n",
       "      <th>0</th>\n",
       "      <th>1</th>\n",
       "      <th>2</th>\n",
       "      <th>3</th>\n",
       "      <th>4</th>\n",
       "    </tr>\n",
       "  </thead>\n",
       "  <tbody>\n",
       "    <tr>\n",
       "      <th>customer_id</th>\n",
       "      <td>17850</td>\n",
       "      <td>13047</td>\n",
       "      <td>12583</td>\n",
       "      <td>13748</td>\n",
       "      <td>15100</td>\n",
       "    </tr>\n",
       "    <tr>\n",
       "      <th>revenue</th>\n",
       "      <td>5288.63</td>\n",
       "      <td>3079.1</td>\n",
       "      <td>7187.34</td>\n",
       "      <td>948.25</td>\n",
       "      <td>635.1</td>\n",
       "    </tr>\n",
       "    <tr>\n",
       "      <th>invoice_date</th>\n",
       "      <td>2011-02-10 00:00:00</td>\n",
       "      <td>2011-11-08 00:00:00</td>\n",
       "      <td>2011-12-07 00:00:00</td>\n",
       "      <td>2011-09-05 00:00:00</td>\n",
       "      <td>2011-01-13 00:00:00</td>\n",
       "    </tr>\n",
       "    <tr>\n",
       "      <th>recency_days</th>\n",
       "      <td>302</td>\n",
       "      <td>31</td>\n",
       "      <td>2</td>\n",
       "      <td>95</td>\n",
       "      <td>330</td>\n",
       "    </tr>\n",
       "    <tr>\n",
       "      <th>invoice_no</th>\n",
       "      <td>35</td>\n",
       "      <td>18</td>\n",
       "      <td>18</td>\n",
       "      <td>5</td>\n",
       "      <td>6</td>\n",
       "    </tr>\n",
       "  </tbody>\n",
       "</table>\n",
       "</div>"
      ],
      "text/plain": [
       "                                0                    1                    2                    3                    4\n",
       "customer_id                 17850                13047                12583                13748                15100\n",
       "revenue                   5288.63               3079.1              7187.34               948.25                635.1\n",
       "invoice_date  2011-02-10 00:00:00  2011-11-08 00:00:00  2011-12-07 00:00:00  2011-09-05 00:00:00  2011-01-13 00:00:00\n",
       "recency_days                  302                   31                    2                   95                  330\n",
       "invoice_no                     35                   18                   18                    5                    6"
      ]
     },
     "execution_count": 16,
     "metadata": {},
     "output_type": "execute_result"
    }
   ],
   "source": [
    "df_ref.head().T"
   ]
  },
  {
   "cell_type": "markdown",
   "id": "88b51e37",
   "metadata": {},
   "source": [
    "# 3 Filtragem dos dados"
   ]
  },
  {
   "cell_type": "code",
   "execution_count": 17,
   "id": "518c0947",
   "metadata": {
    "ExecuteTime": {
     "end_time": "2022-11-07T22:46:34.540597Z",
     "start_time": "2022-11-07T22:46:34.529898Z"
    }
   },
   "outputs": [],
   "source": [
    "df3 = df_ref.copy()"
   ]
  },
  {
   "cell_type": "markdown",
   "id": "7a623aa8",
   "metadata": {
    "heading_collapsed": true
   },
   "source": [
    "## 3.1 Filtragem das linhas"
   ]
  },
  {
   "cell_type": "code",
   "execution_count": null,
   "id": "b31a0143",
   "metadata": {
    "ExecuteTime": {
     "end_time": "2022-06-10T20:59:06.579350Z",
     "start_time": "2022-06-10T20:59:06.363923Z"
    },
    "hidden": true
   },
   "outputs": [],
   "source": []
  },
  {
   "cell_type": "markdown",
   "id": "2577d5ff",
   "metadata": {
    "heading_collapsed": true
   },
   "source": [
    "## 3.2 Filtragem das colunas"
   ]
  },
  {
   "cell_type": "code",
   "execution_count": null,
   "id": "fbaa8ee7",
   "metadata": {
    "ExecuteTime": {
     "end_time": "2022-06-10T20:59:06.720751Z",
     "start_time": "2022-06-10T20:59:06.591293Z"
    },
    "hidden": true
   },
   "outputs": [],
   "source": []
  },
  {
   "cell_type": "markdown",
   "id": "17f1ac89",
   "metadata": {},
   "source": [
    "# 4. Análise exploratória de dados (EDA)"
   ]
  },
  {
   "cell_type": "code",
   "execution_count": 18,
   "id": "0c576477",
   "metadata": {
    "ExecuteTime": {
     "end_time": "2022-11-07T22:46:37.757008Z",
     "start_time": "2022-11-07T22:46:37.746950Z"
    }
   },
   "outputs": [],
   "source": [
    "df4 = df3.copy()"
   ]
  },
  {
   "cell_type": "code",
   "execution_count": null,
   "id": "1dfc9719",
   "metadata": {
    "ExecuteTime": {
     "end_time": "2022-06-10T20:59:06.942857Z",
     "start_time": "2022-06-10T20:59:06.818293Z"
    }
   },
   "outputs": [],
   "source": [
    "num_attributes = df4.select_dtypes(include=['int64', 'float64'])\n",
    "cat_attributes = df4.select_dtypes(exclude=['int64', 'float64', 'datetime64[ns]'])"
   ]
  },
  {
   "cell_type": "markdown",
   "id": "f6a0e0fc",
   "metadata": {
    "heading_collapsed": true
   },
   "source": [
    "## 4.1 Análise univariada"
   ]
  },
  {
   "cell_type": "markdown",
   "id": "df63a991",
   "metadata": {
    "ExecuteTime": {
     "end_time": "2022-05-31T20:44:33.976764Z",
     "start_time": "2022-05-31T20:44:33.962652Z"
    },
    "heading_collapsed": true,
    "hidden": true
   },
   "source": [
    "### 4.1.1 Variável resposta"
   ]
  },
  {
   "cell_type": "code",
   "execution_count": null,
   "id": "7d3be18e",
   "metadata": {
    "ExecuteTime": {
     "end_time": "2022-06-10T20:59:12.390272Z",
     "start_time": "2022-06-10T20:59:06.945339Z"
    },
    "hidden": true
   },
   "outputs": [],
   "source": []
  },
  {
   "cell_type": "markdown",
   "id": "842b36e2",
   "metadata": {
    "ExecuteTime": {
     "end_time": "2022-05-31T20:44:33.976764Z",
     "start_time": "2022-05-31T20:44:33.962652Z"
    },
    "heading_collapsed": true,
    "hidden": true
   },
   "source": [
    "### 4.1.2 Variáveis numéricas"
   ]
  },
  {
   "cell_type": "code",
   "execution_count": null,
   "id": "eb1c321e",
   "metadata": {
    "ExecuteTime": {
     "end_time": "2022-06-10T20:59:16.545050Z",
     "start_time": "2022-06-10T20:59:12.391269Z"
    },
    "hidden": true
   },
   "outputs": [],
   "source": []
  },
  {
   "cell_type": "markdown",
   "id": "2ff710f3",
   "metadata": {
    "ExecuteTime": {
     "end_time": "2022-05-31T20:44:33.976764Z",
     "start_time": "2022-05-31T20:44:33.962652Z"
    },
    "hidden": true
   },
   "source": [
    "### 4.1.3 Variável categóricas"
   ]
  },
  {
   "cell_type": "code",
   "execution_count": null,
   "id": "9c7d9958",
   "metadata": {
    "ExecuteTime": {
     "end_time": "2022-06-10T20:59:40.609474Z",
     "start_time": "2022-06-10T20:59:16.547045Z"
    },
    "hidden": true
   },
   "outputs": [],
   "source": []
  },
  {
   "cell_type": "markdown",
   "id": "43322fbb",
   "metadata": {
    "heading_collapsed": true
   },
   "source": [
    "## 4.2 Análise bivariada"
   ]
  },
  {
   "cell_type": "markdown",
   "id": "a8d46eb3",
   "metadata": {
    "ExecuteTime": {
     "end_time": "2022-05-30T22:34:11.246191Z",
     "start_time": "2022-05-30T22:34:11.240241Z"
    },
    "hidden": true
   },
   "source": [
    "### Hn: \n",
    "**VERDADEIRA/FALSA**"
   ]
  },
  {
   "cell_type": "code",
   "execution_count": null,
   "id": "be00032a",
   "metadata": {
    "hidden": true
   },
   "outputs": [],
   "source": []
  },
  {
   "cell_type": "markdown",
   "id": "0b3b1d0a",
   "metadata": {
    "hidden": true
   },
   "source": [
    "### 4.2.1 Resumo das hipóteses"
   ]
  },
  {
   "cell_type": "code",
   "execution_count": null,
   "id": "003de512",
   "metadata": {
    "ExecuteTime": {
     "end_time": "2022-06-10T21:00:05.087047Z",
     "start_time": "2022-06-10T21:00:05.075053Z"
    },
    "hidden": true
   },
   "outputs": [],
   "source": [
    "tab =[['Hipoteses', 'Conclusao', 'Relevancia'],\n",
    "      ['H1', 'Falsa', 'Baixa'],  \n",
    "      ['H2', 'Falsa', 'Media'],  \n",
    "      ['H3', 'Falsa', 'Media'],\n",
    "      ['H4', 'Falsa', 'Baixa'],\n",
    "      ['H5', '-', '-'],\n",
    "      ['H6', 'Falsa', 'Baixa'],\n",
    "      ['H7', 'Falsa', 'Media'],\n",
    "      ['H8', 'Falsa', 'Alta'],\n",
    "      ['H9', 'Falsa', 'Alta'],\n",
    "      ['H10', 'Verdadeira', 'Alta'],\n",
    "      ['H11', 'Verdadeira', 'Alta'],\n",
    "      ['H12', 'Verdadeira', 'Baixa'],\n",
    "     ]  \n",
    "print(tabulate( tab, headers='firstrow'))"
   ]
  },
  {
   "cell_type": "markdown",
   "id": "bb50f71b",
   "metadata": {
    "heading_collapsed": true
   },
   "source": [
    "## 4.3 Análise multivariada"
   ]
  },
  {
   "cell_type": "markdown",
   "id": "adf5ddba",
   "metadata": {
    "hidden": true
   },
   "source": [
    "### 4.3.1 Variáveis númericas"
   ]
  },
  {
   "cell_type": "code",
   "execution_count": null,
   "id": "7a22ffbc",
   "metadata": {
    "ExecuteTime": {
     "end_time": "2022-06-10T21:00:07.181788Z",
     "start_time": "2022-06-10T21:00:05.089014Z"
    },
    "hidden": true
   },
   "outputs": [],
   "source": []
  },
  {
   "cell_type": "markdown",
   "id": "43b1b375",
   "metadata": {
    "heading_collapsed": true,
    "hidden": true
   },
   "source": [
    "### 4.3.2 Variáveis categóricas"
   ]
  },
  {
   "cell_type": "code",
   "execution_count": null,
   "id": "e6dc33a7",
   "metadata": {
    "ExecuteTime": {
     "end_time": "2022-06-10T21:00:08.905947Z",
     "start_time": "2022-06-10T21:00:07.183796Z"
    },
    "hidden": true
   },
   "outputs": [],
   "source": []
  },
  {
   "cell_type": "markdown",
   "id": "87f3423f",
   "metadata": {},
   "source": [
    "# 5 Preparação dos dados"
   ]
  },
  {
   "cell_type": "code",
   "execution_count": 19,
   "id": "21e4ce0e",
   "metadata": {
    "ExecuteTime": {
     "end_time": "2022-11-07T22:46:40.596623Z",
     "start_time": "2022-11-07T22:46:40.576880Z"
    }
   },
   "outputs": [],
   "source": [
    "df5 = df4.copy()"
   ]
  },
  {
   "cell_type": "markdown",
   "id": "b86fa0d6",
   "metadata": {
    "heading_collapsed": true
   },
   "source": [
    "## 5.1 Normalização"
   ]
  },
  {
   "cell_type": "code",
   "execution_count": null,
   "id": "b1a87371",
   "metadata": {
    "hidden": true
   },
   "outputs": [],
   "source": []
  },
  {
   "cell_type": "markdown",
   "id": "3b881410",
   "metadata": {
    "heading_collapsed": true
   },
   "source": [
    "## 5.2 Rescaling"
   ]
  },
  {
   "cell_type": "code",
   "execution_count": null,
   "id": "106a9f9b",
   "metadata": {
    "ExecuteTime": {
     "end_time": "2022-06-13T12:21:07.897330Z",
     "start_time": "2022-06-13T12:21:07.262928Z"
    },
    "hidden": true
   },
   "outputs": [],
   "source": []
  },
  {
   "cell_type": "markdown",
   "id": "3d7fe180",
   "metadata": {
    "heading_collapsed": true
   },
   "source": [
    "## 5.3 Transformação"
   ]
  },
  {
   "cell_type": "markdown",
   "id": "c0a23fbf",
   "metadata": {
    "hidden": true
   },
   "source": [
    "### 5.3.1 Encoding"
   ]
  },
  {
   "cell_type": "code",
   "execution_count": null,
   "id": "59ac8118",
   "metadata": {
    "ExecuteTime": {
     "end_time": "2022-06-13T12:22:47.936939Z",
     "start_time": "2022-06-13T12:22:47.915573Z"
    },
    "hidden": true
   },
   "outputs": [],
   "source": []
  },
  {
   "cell_type": "markdown",
   "id": "02437291",
   "metadata": {
    "hidden": true
   },
   "source": [
    "### 5.3.2 Transformação da variável resposta"
   ]
  },
  {
   "cell_type": "code",
   "execution_count": null,
   "id": "e65f84c6",
   "metadata": {
    "ExecuteTime": {
     "end_time": "2022-06-10T21:00:09.999714Z",
     "start_time": "2022-06-10T21:00:09.955831Z"
    },
    "hidden": true
   },
   "outputs": [],
   "source": []
  },
  {
   "cell_type": "markdown",
   "id": "bf0e358c",
   "metadata": {
    "heading_collapsed": true,
    "hidden": true
   },
   "source": [
    "### 5.3.3 Transformação de natureza"
   ]
  },
  {
   "cell_type": "code",
   "execution_count": null,
   "id": "4df82f57",
   "metadata": {
    "ExecuteTime": {
     "end_time": "2022-06-10T21:00:18.034397Z",
     "start_time": "2022-06-10T21:00:10.001708Z"
    },
    "hidden": true
   },
   "outputs": [],
   "source": []
  },
  {
   "cell_type": "markdown",
   "id": "8ad24b4c",
   "metadata": {},
   "source": [
    "# 6 Seleção de variáveis"
   ]
  },
  {
   "cell_type": "code",
   "execution_count": 20,
   "id": "5bc0eeed",
   "metadata": {
    "ExecuteTime": {
     "end_time": "2022-11-07T22:46:43.002122Z",
     "start_time": "2022-11-07T22:46:42.980444Z"
    }
   },
   "outputs": [],
   "source": [
    "df6 = df5.copy()"
   ]
  },
  {
   "cell_type": "markdown",
   "id": "7e857893",
   "metadata": {
    "heading_collapsed": true
   },
   "source": [
    "## 6.1 Separação do conjunto de dados em treino e teste"
   ]
  },
  {
   "cell_type": "code",
   "execution_count": null,
   "id": "d5e0d0c4",
   "metadata": {
    "ExecuteTime": {
     "end_time": "2022-06-10T21:00:18.377232Z",
     "start_time": "2022-06-10T21:00:18.259015Z"
    },
    "hidden": true
   },
   "outputs": [],
   "source": []
  },
  {
   "cell_type": "markdown",
   "id": "83b8a529",
   "metadata": {
    "heading_collapsed": true
   },
   "source": [
    "## 6.2 Feature selector"
   ]
  },
  {
   "cell_type": "code",
   "execution_count": null,
   "id": "767e7b7e",
   "metadata": {
    "ExecuteTime": {
     "end_time": "2022-06-10T21:00:18.558292Z",
     "start_time": "2022-06-10T21:00:18.536544Z"
    },
    "hidden": true
   },
   "outputs": [],
   "source": []
  },
  {
   "cell_type": "markdown",
   "id": "3705d684",
   "metadata": {
    "heading_collapsed": true
   },
   "source": [
    "## 6.3 Seleção de variáveis manual após feature selector"
   ]
  },
  {
   "cell_type": "code",
   "execution_count": null,
   "id": "47bdf2cc",
   "metadata": {
    "ExecuteTime": {
     "end_time": "2022-06-10T21:00:18.611307Z",
     "start_time": "2022-06-10T21:00:18.586924Z"
    },
    "hidden": true
   },
   "outputs": [],
   "source": []
  },
  {
   "cell_type": "markdown",
   "id": "e53791df",
   "metadata": {},
   "source": [
    "# 7 Otimização dos hiperparâmetros"
   ]
  },
  {
   "cell_type": "code",
   "execution_count": 21,
   "id": "a45f7c9a",
   "metadata": {
    "ExecuteTime": {
     "end_time": "2022-11-07T22:46:45.869396Z",
     "start_time": "2022-11-07T22:46:45.857550Z"
    }
   },
   "outputs": [],
   "source": [
    "df7 = df6.copy()"
   ]
  },
  {
   "cell_type": "code",
   "execution_count": 22,
   "id": "7cbba647",
   "metadata": {
    "ExecuteTime": {
     "end_time": "2022-11-07T22:46:46.244218Z",
     "start_time": "2022-11-07T22:46:46.225770Z"
    }
   },
   "outputs": [],
   "source": [
    "X = df7[['revenue', 'recency_days', 'invoice_no']]"
   ]
  },
  {
   "cell_type": "code",
   "execution_count": 23,
   "id": "9da50eb9",
   "metadata": {
    "ExecuteTime": {
     "end_time": "2022-11-07T22:46:46.644683Z",
     "start_time": "2022-11-07T22:46:46.629920Z"
    }
   },
   "outputs": [],
   "source": [
    "clusters = [2, 3, 4, 5, 6]"
   ]
  },
  {
   "cell_type": "markdown",
   "id": "22b72c7a",
   "metadata": {},
   "source": [
    "## 7.1 Within-Cluster Sum of Square (WSS)"
   ]
  },
  {
   "cell_type": "code",
   "execution_count": 24,
   "id": "b573ab4e",
   "metadata": {
    "ExecuteTime": {
     "end_time": "2022-11-07T22:46:49.695117Z",
     "start_time": "2022-11-07T22:46:48.201396Z"
    },
    "scrolled": false
   },
   "outputs": [
    {
     "data": {
      "image/png": "[encoded data removed]",
      "text/plain": [
       "<Figure size 1400x500 with 1 Axes>"
      ]
     },
     "metadata": {},
     "output_type": "display_data"
    }
   ],
   "source": [
    "wss = []\n",
    "for k in clusters:\n",
    "    #model definition\n",
    "    kmeans = KMeans(init='random', n_clusters=k, n_init=10, max_iter=300, random_state=42)\n",
    "    \n",
    "    #model training\n",
    "    kmeans.fit(X)\n",
    "    \n",
    "    #validation\n",
    "    wss.append(kmeans.inertia_)\n",
    "    \n",
    "plt.plot(clusters, wss, linestyle='--', marker='o', color='b')\n",
    "plt.xlabel('K')\n",
    "plt.ylabel('WSS')\n",
    "plt.title('WSS vs K')\n",
    "plt.show()"
   ]
  },
  {
   "cell_type": "code",
   "execution_count": 26,
   "id": "b8525efb",
   "metadata": {
    "ExecuteTime": {
     "end_time": "2022-11-07T22:58:06.807551Z",
     "start_time": "2022-11-07T22:58:05.428809Z"
    }
   },
   "outputs": [
    {
     "data": {
      "image/png": "[encoded data removed]",
      "text/plain": [
       "<Figure size 1400x500 with 1 Axes>"
      ]
     },
     "metadata": {},
     "output_type": "display_data"
    }
   ],
   "source": [
    "kmeans = KElbowVisualizer(KMeans(init='random', n_clusters=k, n_init=10, max_iter=300, random_state=42), k=clusters, timings=False)\n",
    "kmeans.fit(X)\n",
    "kmeans.show();"
   ]
  },
  {
   "cell_type": "markdown",
   "id": "597a8623",
   "metadata": {},
   "source": [
    "## 7.2 Silhouette Score"
   ]
  },
  {
   "cell_type": "code",
   "execution_count": 27,
   "id": "188782a8",
   "metadata": {
    "ExecuteTime": {
     "end_time": "2022-11-07T22:58:35.027629Z",
     "start_time": "2022-11-07T22:58:30.422098Z"
    }
   },
   "outputs": [
    {
     "data": {
      "image/png": "[encoded data removed]",
      "text/plain": [
       "<Figure size 1400x500 with 1 Axes>"
      ]
     },
     "metadata": {},
     "output_type": "display_data"
    }
   ],
   "source": [
    "kmeans = KElbowVisualizer(KMeans(init='random', n_clusters=k, n_init=10, max_iter=300, random_state=42), k=clusters, metric='silhouette',timings=False)\n",
    "kmeans.fit(X)\n",
    "kmeans.show();"
   ]
  },
  {
   "cell_type": "markdown",
   "id": "8cf4668b",
   "metadata": {
    "heading_collapsed": true
   },
   "source": [
    "# 8 Machine learning"
   ]
  },
  {
   "cell_type": "markdown",
   "id": "3793d6bb",
   "metadata": {
    "hidden": true
   },
   "source": [
    "## 8.1 Método otimizador"
   ]
  },
  {
   "cell_type": "code",
   "execution_count": null,
   "id": "5a8a768a",
   "metadata": {
    "ExecuteTime": {
     "end_time": "2022-06-09T19:38:21.607778Z",
     "start_time": "2022-06-09T19:38:21.574382Z"
    },
    "hidden": true
   },
   "outputs": [],
   "source": []
  },
  {
   "cell_type": "markdown",
   "id": "11476303",
   "metadata": {
    "hidden": true
   },
   "source": [
    "## 8.2 Modelo final tunado"
   ]
  },
  {
   "cell_type": "code",
   "execution_count": null,
   "id": "7cca6a34",
   "metadata": {
    "ExecuteTime": {
     "end_time": "2022-06-10T21:02:00.500816Z",
     "start_time": "2022-06-10T21:02:00.485442Z"
    },
    "hidden": true
   },
   "outputs": [],
   "source": []
  },
  {
   "cell_type": "markdown",
   "id": "de247ca0",
   "metadata": {
    "hidden": true
   },
   "source": [
    "Tempo de execução: 1h09"
   ]
  },
  {
   "cell_type": "markdown",
   "id": "3866d5bc",
   "metadata": {
    "heading_collapsed": true
   },
   "source": [
    "# 9 Análise dos clusters"
   ]
  },
  {
   "cell_type": "code",
   "execution_count": null,
   "id": "32b165cf",
   "metadata": {
    "ExecuteTime": {
     "end_time": "2022-06-11T18:59:06.946348Z",
     "start_time": "2022-06-11T18:59:06.800502Z"
    },
    "hidden": true
   },
   "outputs": [],
   "source": []
  },
  {
   "cell_type": "markdown",
   "id": "3bd5fb63",
   "metadata": {
    "heading_collapsed": true,
    "hidden": true
   },
   "source": [
    "## 9.1 Performance do negócio"
   ]
  },
  {
   "cell_type": "code",
   "execution_count": null,
   "id": "4aa6ec5e",
   "metadata": {
    "ExecuteTime": {
     "end_time": "2022-06-11T19:30:23.557524Z",
     "start_time": "2022-06-11T19:30:22.790473Z"
    },
    "hidden": true
   },
   "outputs": [],
   "source": []
  },
  {
   "cell_type": "markdown",
   "id": "9d28f875",
   "metadata": {
    "heading_collapsed": true
   },
   "source": [
    "# 10 Deployment do modelo em produção"
   ]
  },
  {
   "cell_type": "code",
   "execution_count": null,
   "id": "fe1a038c",
   "metadata": {
    "ExecuteTime": {
     "end_time": "2022-06-13T12:06:30.330230Z",
     "start_time": "2022-06-13T12:06:28.022710Z"
    },
    "hidden": true
   },
   "outputs": [],
   "source": [
    "# Save Trained Model\n"
   ]
  },
  {
   "cell_type": "markdown",
   "id": "c21f7706",
   "metadata": {
    "heading_collapsed": true,
    "hidden": true
   },
   "source": [
    "## 10.1 Model class"
   ]
  },
  {
   "cell_type": "code",
   "execution_count": null,
   "id": "4dc39316",
   "metadata": {
    "ExecuteTime": {
     "end_time": "2022-06-13T14:23:41.537029Z",
     "start_time": "2022-06-13T14:23:41.494113Z"
    },
    "hidden": true
   },
   "outputs": [],
   "source": [
    "                              "
   ]
  },
  {
   "cell_type": "markdown",
   "id": "4f17feb3",
   "metadata": {
    "heading_collapsed": true,
    "hidden": true
   },
   "source": [
    "## 10.2 API handler"
   ]
  },
  {
   "cell_type": "code",
   "execution_count": null,
   "id": "ebb4acbc",
   "metadata": {
    "ExecuteTime": {
     "end_time": "2022-06-13T14:23:33.669234Z",
     "start_time": "2022-06-13T14:23:33.466242Z"
    },
    "hidden": true
   },
   "outputs": [],
   "source": []
  },
  {
   "cell_type": "markdown",
   "id": "b972c36a",
   "metadata": {
    "heading_collapsed": true,
    "hidden": true
   },
   "source": [
    "## 10.3 API tester"
   ]
  },
  {
   "cell_type": "code",
   "execution_count": null,
   "id": "0508be38",
   "metadata": {
    "ExecuteTime": {
     "end_time": "2022-06-13T20:50:44.263240Z",
     "start_time": "2022-06-13T20:50:44.196138Z"
    },
    "hidden": true
   },
   "outputs": [],
   "source": []
  }
 ],
 "metadata": {
  "kernelspec": {
   "display_name": "Python 3 (ipykernel)",
   "language": "python",
   "name": "python3"
  },
  "language_info": {
   "codemirror_mode": {
    "name": "ipython",
    "version": 3
   },
   "file_extension": ".py",
   "mimetype": "text/x-python",
   "name": "python",
   "nbconvert_exporter": "python",
   "pygments_lexer": "ipython3",
   "version": "3.10.6"
  },
  "varInspector": {
   "cols": {
    "lenName": 16,
    "lenType": 16,
    "lenVar": 40
   },
   "kernels_config": {
    "python": {
     "delete_cmd_postfix": "",
     "delete_cmd_prefix": "del ",
     "library": "var_list.py",
     "varRefreshCmd": "print(var_dic_list())"
    },
    "r": {
     "delete_cmd_postfix": ") ",
     "delete_cmd_prefix": "rm(",
     "library": "var_list.r",
     "varRefreshCmd": "cat(var_dic_list()) "
    }
   },
   "types_to_exclude": [
    "module",
    "function",
    "builtin_function_or_method",
    "instance",
    "_Feature"
   ],
   "window_display": false
  }
 },
 "nbformat": 4,
 "nbformat_minor": 5
}
