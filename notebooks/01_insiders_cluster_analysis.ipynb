{
 "cells": [
  {
   "cell_type": "markdown",
   "id": "e2df8641",
   "metadata": {},
   "source": [
    "# 0 Imports"
   ]
  },
  {
   "cell_type": "code",
   "execution_count": 57,
   "id": "165c5d4a",
   "metadata": {
    "ExecuteTime": {
     "end_time": "2022-11-06T23:59:10.358436Z",
     "start_time": "2022-11-06T23:59:10.336991Z"
    }
   },
   "outputs": [],
   "source": [
    "import numpy   as np\n",
    "import pandas  as pd\n",
    "import seaborn as sns\n",
    "\n",
    "import datetime\n",
    "import warnings\n",
    "import inflection\n",
    "\n",
    "from datetime             import datetime\n",
    "from matplotlib           import pyplot as plt\n",
    "from matplotlib.gridspec  import GridSpec\n",
    "from IPython.display      import Image\n",
    "from IPython.core.display import HTML\n",
    "\n",
    "from sklearn.cluster     import KMeans\n",
    "from yellowbrick.cluster import KElbowVisualizer\n",
    "\n",
    "warnings.filterwarnings( 'ignore' )"
   ]
  },
  {
   "cell_type": "markdown",
   "id": "7e3fd84d",
   "metadata": {},
   "source": [
    "## 0.1 Funções auxiliares"
   ]
  },
  {
   "cell_type": "code",
   "execution_count": 58,
   "id": "99889a1a",
   "metadata": {
    "ExecuteTime": {
     "end_time": "2022-11-06T23:59:12.750834Z",
     "start_time": "2022-11-06T23:59:12.732588Z"
    }
   },
   "outputs": [],
   "source": [
    "def jupyter_settings():\n",
    "    %matplotlib inline\n",
    "    \n",
    "    plt.style.use( 'bmh' )\n",
    "    plt.rcParams['figure.figsize'] = [14, 5]\n",
    "    plt.rcParams['font.size'] = 18\n",
    "    sns.set_palette(\"Reds\") \n",
    "    \n",
    "    display(HTML( '<style>.container { width:100% !important; }</style>'))\n",
    "    pd.options.display.max_columns = None\n",
    "    pd.options.display.max_rows = None\n",
    "    pd.set_option( 'display.expand_frame_repr', False )\n",
    "    \n",
    "    sns.set()"
   ]
  },
  {
   "cell_type": "code",
   "execution_count": 59,
   "id": "4895a24a",
   "metadata": {
    "ExecuteTime": {
     "end_time": "2022-11-06T23:59:14.355283Z",
     "start_time": "2022-11-06T23:59:14.339959Z"
    }
   },
   "outputs": [
    {
     "data": {
      "text/html": [
       "<style>.container { width:100% !important; }</style>"
      ],
      "text/plain": [
       "<IPython.core.display.HTML object>"
      ]
     },
     "metadata": {},
     "output_type": "display_data"
    }
   ],
   "source": [
    "jupyter_settings()"
   ]
  },
  {
   "cell_type": "markdown",
   "id": "9d5ccde4",
   "metadata": {},
   "source": [
    "## 0.2 Carregamento dos dados"
   ]
  },
  {
   "cell_type": "code",
   "execution_count": 4,
   "id": "54d26b8e",
   "metadata": {
    "ExecuteTime": {
     "end_time": "2022-11-06T23:32:09.557017Z",
     "start_time": "2022-11-06T23:32:08.198890Z"
    }
   },
   "outputs": [],
   "source": [
    "df_raw = pd.read_csv('../inputs/data.csv', encoding= 'unicode_escape')"
   ]
  },
  {
   "cell_type": "code",
   "execution_count": 5,
   "id": "ef17342e",
   "metadata": {
    "ExecuteTime": {
     "end_time": "2022-11-06T23:32:09.645219Z",
     "start_time": "2022-11-06T23:32:09.561903Z"
    }
   },
   "outputs": [
    {
     "data": {
      "text/html": [
       "<div>\n",
       "<style scoped>\n",
       "    .dataframe tbody tr th:only-of-type {\n",
       "        vertical-align: middle;\n",
       "    }\n",
       "\n",
       "    .dataframe tbody tr th {\n",
       "        vertical-align: top;\n",
       "    }\n",
       "\n",
       "    .dataframe thead th {\n",
       "        text-align: right;\n",
       "    }\n",
       "</style>\n",
       "<table border=\"1\" class=\"dataframe\">\n",
       "  <thead>\n",
       "    <tr style=\"text-align: right;\">\n",
       "      <th></th>\n",
       "      <th>InvoiceNo</th>\n",
       "      <th>StockCode</th>\n",
       "      <th>Description</th>\n",
       "      <th>Quantity</th>\n",
       "      <th>InvoiceDate</th>\n",
       "      <th>UnitPrice</th>\n",
       "      <th>CustomerID</th>\n",
       "      <th>Country</th>\n",
       "    </tr>\n",
       "  </thead>\n",
       "  <tbody>\n",
       "    <tr>\n",
       "      <th>105445</th>\n",
       "      <td>545226</td>\n",
       "      <td>22321</td>\n",
       "      <td>BIRD DECORATION RED RETROSPOT</td>\n",
       "      <td>12</td>\n",
       "      <td>3/1/2011 9:33</td>\n",
       "      <td>0.85</td>\n",
       "      <td>12428.0</td>\n",
       "      <td>Finland</td>\n",
       "    </tr>\n",
       "    <tr>\n",
       "      <th>540770</th>\n",
       "      <td>581492</td>\n",
       "      <td>22154</td>\n",
       "      <td>ANGEL DECORATION 3 BUTTONS</td>\n",
       "      <td>3</td>\n",
       "      <td>12/9/2011 10:03</td>\n",
       "      <td>0.83</td>\n",
       "      <td>NaN</td>\n",
       "      <td>United Kingdom</td>\n",
       "    </tr>\n",
       "    <tr>\n",
       "      <th>287494</th>\n",
       "      <td>562104</td>\n",
       "      <td>22690</td>\n",
       "      <td>DOORMAT HOME SWEET HOME BLUE</td>\n",
       "      <td>1</td>\n",
       "      <td>8/2/2011 14:31</td>\n",
       "      <td>12.46</td>\n",
       "      <td>NaN</td>\n",
       "      <td>United Kingdom</td>\n",
       "    </tr>\n",
       "    <tr>\n",
       "      <th>262211</th>\n",
       "      <td>559904</td>\n",
       "      <td>22457</td>\n",
       "      <td>NATURAL SLATE HEART CHALKBOARD</td>\n",
       "      <td>6</td>\n",
       "      <td>7/13/2011 13:20</td>\n",
       "      <td>2.95</td>\n",
       "      <td>13149.0</td>\n",
       "      <td>United Kingdom</td>\n",
       "    </tr>\n",
       "    <tr>\n",
       "      <th>214392</th>\n",
       "      <td>555573</td>\n",
       "      <td>22031</td>\n",
       "      <td>BOTANICAL LAVENDER BIRTHDAY CARD</td>\n",
       "      <td>12</td>\n",
       "      <td>6/5/2011 15:46</td>\n",
       "      <td>0.42</td>\n",
       "      <td>15349.0</td>\n",
       "      <td>United Kingdom</td>\n",
       "    </tr>\n",
       "    <tr>\n",
       "      <th>129123</th>\n",
       "      <td>547375</td>\n",
       "      <td>22585</td>\n",
       "      <td>PACK OF 6 BIRDY GIFT TAGS</td>\n",
       "      <td>12</td>\n",
       "      <td>3/22/2011 14:24</td>\n",
       "      <td>1.25</td>\n",
       "      <td>13196.0</td>\n",
       "      <td>United Kingdom</td>\n",
       "    </tr>\n",
       "    <tr>\n",
       "      <th>44623</th>\n",
       "      <td>540185</td>\n",
       "      <td>22627</td>\n",
       "      <td>MINT KITCHEN SCALES</td>\n",
       "      <td>1</td>\n",
       "      <td>1/5/2011 13:41</td>\n",
       "      <td>8.50</td>\n",
       "      <td>14653.0</td>\n",
       "      <td>United Kingdom</td>\n",
       "    </tr>\n",
       "    <tr>\n",
       "      <th>286492</th>\n",
       "      <td>562031</td>\n",
       "      <td>22291</td>\n",
       "      <td>HANGING CHICK CREAM DECORATION</td>\n",
       "      <td>14</td>\n",
       "      <td>8/1/2011 17:37</td>\n",
       "      <td>1.45</td>\n",
       "      <td>16984.0</td>\n",
       "      <td>United Kingdom</td>\n",
       "    </tr>\n",
       "    <tr>\n",
       "      <th>432628</th>\n",
       "      <td>573876</td>\n",
       "      <td>21484</td>\n",
       "      <td>CHICK GREY HOT WATER BOTTLE</td>\n",
       "      <td>1</td>\n",
       "      <td>11/1/2011 12:48</td>\n",
       "      <td>4.25</td>\n",
       "      <td>16360.0</td>\n",
       "      <td>United Kingdom</td>\n",
       "    </tr>\n",
       "    <tr>\n",
       "      <th>334848</th>\n",
       "      <td>566271</td>\n",
       "      <td>22983</td>\n",
       "      <td>CARD BILLBOARD FONT</td>\n",
       "      <td>12</td>\n",
       "      <td>9/11/2011 13:44</td>\n",
       "      <td>0.42</td>\n",
       "      <td>14250.0</td>\n",
       "      <td>United Kingdom</td>\n",
       "    </tr>\n",
       "  </tbody>\n",
       "</table>\n",
       "</div>"
      ],
      "text/plain": [
       "       InvoiceNo StockCode                       Description  Quantity      InvoiceDate  UnitPrice  CustomerID         Country\n",
       "105445    545226     22321     BIRD DECORATION RED RETROSPOT        12    3/1/2011 9:33       0.85     12428.0         Finland\n",
       "540770    581492     22154       ANGEL DECORATION 3 BUTTONS          3  12/9/2011 10:03       0.83         NaN  United Kingdom\n",
       "287494    562104     22690     DOORMAT HOME SWEET HOME BLUE          1   8/2/2011 14:31      12.46         NaN  United Kingdom\n",
       "262211    559904     22457   NATURAL SLATE HEART CHALKBOARD          6  7/13/2011 13:20       2.95     13149.0  United Kingdom\n",
       "214392    555573     22031  BOTANICAL LAVENDER BIRTHDAY CARD        12   6/5/2011 15:46       0.42     15349.0  United Kingdom\n",
       "129123    547375     22585         PACK OF 6 BIRDY GIFT TAGS        12  3/22/2011 14:24       1.25     13196.0  United Kingdom\n",
       "44623     540185     22627               MINT KITCHEN SCALES         1   1/5/2011 13:41       8.50     14653.0  United Kingdom\n",
       "286492    562031     22291    HANGING CHICK CREAM DECORATION        14   8/1/2011 17:37       1.45     16984.0  United Kingdom\n",
       "432628    573876     21484       CHICK GREY HOT WATER BOTTLE         1  11/1/2011 12:48       4.25     16360.0  United Kingdom\n",
       "334848    566271     22983               CARD BILLBOARD FONT        12  9/11/2011 13:44       0.42     14250.0  United Kingdom"
      ]
     },
     "execution_count": 5,
     "metadata": {},
     "output_type": "execute_result"
    }
   ],
   "source": [
    "df_raw.sample(10)"
   ]
  },
  {
   "cell_type": "markdown",
   "id": "02a89b76",
   "metadata": {},
   "source": [
    "# 1 Descrição dos dados"
   ]
  },
  {
   "cell_type": "code",
   "execution_count": 6,
   "id": "926e3d20",
   "metadata": {
    "ExecuteTime": {
     "end_time": "2022-11-06T23:32:09.691305Z",
     "start_time": "2022-11-06T23:32:09.648451Z"
    }
   },
   "outputs": [],
   "source": [
    "df1 = df_raw.copy()"
   ]
  },
  {
   "cell_type": "markdown",
   "id": "57092004",
   "metadata": {},
   "source": [
    "## 1.1 Renomeando colunas"
   ]
  },
  {
   "cell_type": "code",
   "execution_count": 7,
   "id": "f0a73175",
   "metadata": {
    "ExecuteTime": {
     "end_time": "2022-11-06T23:32:09.714842Z",
     "start_time": "2022-11-06T23:32:09.691305Z"
    }
   },
   "outputs": [],
   "source": [
    "snakecase = lambda x: inflection.underscore(x)\n",
    "\n",
    "cols_new = list(map(snakecase, df1.columns))\n",
    "\n",
    "#rename\n",
    "df1.columns = cols_new"
   ]
  },
  {
   "cell_type": "markdown",
   "id": "dffcf4e0",
   "metadata": {},
   "source": [
    "## 1.2 Dimensão dos dados"
   ]
  },
  {
   "cell_type": "code",
   "execution_count": 8,
   "id": "4798a4a8",
   "metadata": {
    "ExecuteTime": {
     "end_time": "2022-11-06T23:32:09.739465Z",
     "start_time": "2022-11-06T23:32:09.721105Z"
    }
   },
   "outputs": [
    {
     "name": "stdout",
     "output_type": "stream",
     "text": [
      "Núm de Linhas: 541909\n",
      "Núm de Colunas: 8\n"
     ]
    }
   ],
   "source": [
    "print('Núm de Linhas: {}'.format(df1.shape[0]))\n",
    "print('Núm de Colunas: {}'.format(df1.shape[1]))"
   ]
  },
  {
   "cell_type": "markdown",
   "id": "47c2fe5e",
   "metadata": {},
   "source": [
    "## 1.3 Tipo dos dados"
   ]
  },
  {
   "cell_type": "code",
   "execution_count": 9,
   "id": "5828a91e",
   "metadata": {
    "ExecuteTime": {
     "end_time": "2022-11-06T23:32:09.771305Z",
     "start_time": "2022-11-06T23:32:09.743530Z"
    }
   },
   "outputs": [
    {
     "data": {
      "text/plain": [
       "invoice_no       object\n",
       "stock_code       object\n",
       "description      object\n",
       "quantity          int64\n",
       "invoice_date     object\n",
       "unit_price      float64\n",
       "customer_id     float64\n",
       "country          object\n",
       "dtype: object"
      ]
     },
     "execution_count": 9,
     "metadata": {},
     "output_type": "execute_result"
    }
   ],
   "source": [
    "df1.dtypes"
   ]
  },
  {
   "cell_type": "markdown",
   "id": "2e1d2165",
   "metadata": {},
   "source": [
    "## 1.4 Checagem de valores nulos"
   ]
  },
  {
   "cell_type": "code",
   "execution_count": 10,
   "id": "12148441",
   "metadata": {
    "ExecuteTime": {
     "end_time": "2022-11-06T23:32:10.497481Z",
     "start_time": "2022-11-06T23:32:09.777162Z"
    }
   },
   "outputs": [
    {
     "data": {
      "text/plain": [
       "invoice_no           0\n",
       "stock_code           0\n",
       "description       1454\n",
       "quantity             0\n",
       "invoice_date         0\n",
       "unit_price           0\n",
       "customer_id     135080\n",
       "country              0\n",
       "dtype: int64"
      ]
     },
     "execution_count": 10,
     "metadata": {},
     "output_type": "execute_result"
    }
   ],
   "source": [
    "df1.isna().sum()"
   ]
  },
  {
   "cell_type": "markdown",
   "id": "61d334b6",
   "metadata": {},
   "source": [
    "## 1.5 Preenchimento de nulos"
   ]
  },
  {
   "cell_type": "code",
   "execution_count": 11,
   "id": "59c5061d",
   "metadata": {
    "ExecuteTime": {
     "end_time": "2022-11-06T23:32:10.740964Z",
     "start_time": "2022-11-06T23:32:10.502803Z"
    }
   },
   "outputs": [
    {
     "name": "stdout",
     "output_type": "stream",
     "text": [
      "Percentual de dados removidos: 24.93%\n"
     ]
    }
   ],
   "source": [
    "df1 = df1.dropna(subset=['description', 'customer_id'])\n",
    "print('Percentual de dados removidos: {:.2f}%'.format((1 - (df1.shape[0] / df_raw.shape[0]))*100))"
   ]
  },
  {
   "cell_type": "markdown",
   "id": "2df27777",
   "metadata": {},
   "source": [
    "## 1.6 Mudando tipo dos dados"
   ]
  },
  {
   "cell_type": "code",
   "execution_count": 12,
   "id": "6e111064",
   "metadata": {
    "ExecuteTime": {
     "end_time": "2022-11-06T23:32:11.408309Z",
     "start_time": "2022-11-06T23:32:10.740964Z"
    }
   },
   "outputs": [],
   "source": [
    "# invoice_date\n",
    "df1['invoice_date'] = pd.to_datetime(df1['invoice_date'], infer_datetime_format=True).dt.date.astype('datetime64')\n",
    "\n",
    "# customer_id \n",
    "df1['customer_id'] = df1['customer_id'].astype('int64').astype('object')"
   ]
  },
  {
   "cell_type": "code",
   "execution_count": 13,
   "id": "0cc11aee",
   "metadata": {
    "ExecuteTime": {
     "end_time": "2022-11-06T23:32:11.429350Z",
     "start_time": "2022-11-06T23:32:11.410971Z"
    }
   },
   "outputs": [
    {
     "data": {
      "text/plain": [
       "invoice_no              object\n",
       "stock_code              object\n",
       "description             object\n",
       "quantity                 int64\n",
       "invoice_date    datetime64[ns]\n",
       "unit_price             float64\n",
       "customer_id             object\n",
       "country                 object\n",
       "dtype: object"
      ]
     },
     "execution_count": 13,
     "metadata": {},
     "output_type": "execute_result"
    }
   ],
   "source": [
    "df1.dtypes"
   ]
  },
  {
   "cell_type": "markdown",
   "id": "c4b071cd",
   "metadata": {
    "heading_collapsed": true
   },
   "source": [
    "## 1.7 Análise descritiva"
   ]
  },
  {
   "cell_type": "code",
   "execution_count": null,
   "id": "1e64f12f",
   "metadata": {
    "ExecuteTime": {
     "end_time": "2022-06-10T20:57:54.797852Z",
     "start_time": "2022-06-10T20:57:54.642522Z"
    },
    "hidden": true
   },
   "outputs": [],
   "source": [
    "num_attributes = df1.select_dtypes(include=['int64', 'float64'])\n",
    "cat_attributes = df1.select_dtypes(exclude=['int64', 'float64', 'datetime64[ns]'])"
   ]
  },
  {
   "cell_type": "code",
   "execution_count": null,
   "id": "089f4e67",
   "metadata": {
    "ExecuteTime": {
     "end_time": "2022-06-10T20:57:54.814118Z",
     "start_time": "2022-06-10T20:57:54.800370Z"
    },
    "hidden": true
   },
   "outputs": [],
   "source": [
    "num_attributes.columns"
   ]
  },
  {
   "cell_type": "code",
   "execution_count": null,
   "id": "6f7684cc",
   "metadata": {
    "ExecuteTime": {
     "end_time": "2022-06-10T20:57:54.829498Z",
     "start_time": "2022-06-10T20:57:54.816134Z"
    },
    "hidden": true
   },
   "outputs": [],
   "source": [
    "cat_attributes.columns"
   ]
  },
  {
   "cell_type": "markdown",
   "id": "73cdea61",
   "metadata": {
    "heading_collapsed": true,
    "hidden": true
   },
   "source": [
    "### 1.7.1 Atributos númericos"
   ]
  },
  {
   "cell_type": "code",
   "execution_count": null,
   "id": "e0d7c56a",
   "metadata": {
    "ExecuteTime": {
     "end_time": "2022-06-10T20:57:56.225095Z",
     "start_time": "2022-06-10T20:57:54.831727Z"
    },
    "hidden": true,
    "scrolled": false
   },
   "outputs": [],
   "source": [
    "# Central Tendency - mean, mediana, 25%, 75% // dispersion - std, min, max, \n",
    "ctd1 = num_attributes.describe()\n",
    "\n",
    "#dispersion - range, skew, kurtosis\n",
    "d1 = pd.DataFrame(num_attributes.apply(lambda x: x.max() - x.min())).T\n",
    "d2 = pd.DataFrame(num_attributes.apply(lambda x: x.skew())).T\n",
    "d3 = pd.DataFrame(num_attributes.apply(lambda x: x.kurtosis())).T\n",
    "\n",
    "#join\n",
    "medidas = pd.concat([ctd1, d1, d2, d3]).T.reset_index()\n",
    "medidas.columns = ['attributes', 'count','mean', 'std', 'min', '25%', 'median', '75%', 'max', 'range', 'skew', 'kurtosis']\n",
    "\n",
    "\n",
    "medidas"
   ]
  },
  {
   "cell_type": "code",
   "execution_count": null,
   "id": "f90f0fb8",
   "metadata": {
    "ExecuteTime": {
     "end_time": "2022-06-10T20:58:02.781596Z",
     "start_time": "2022-06-10T20:57:56.226094Z"
    },
    "hidden": true
   },
   "outputs": [],
   "source": [
    "plt.figure(figsize = (30,60))\n",
    "num_attributes.hist(bins= 25, color= 'indianred');"
   ]
  },
  {
   "cell_type": "markdown",
   "id": "c94eef70",
   "metadata": {
    "heading_collapsed": true,
    "hidden": true
   },
   "source": [
    "### 1.7.2 Atributos categóricos"
   ]
  },
  {
   "cell_type": "code",
   "execution_count": null,
   "id": "99cfdb3d",
   "metadata": {
    "ExecuteTime": {
     "end_time": "2022-06-10T20:58:02.939116Z",
     "start_time": "2022-06-10T20:58:02.783126Z"
    },
    "hidden": true,
    "scrolled": true
   },
   "outputs": [],
   "source": [
    "cat_attributes.apply(lambda x: x.unique().shape[0])"
   ]
  },
  {
   "cell_type": "code",
   "execution_count": null,
   "id": "ce1a5542",
   "metadata": {
    "ExecuteTime": {
     "end_time": "2022-06-10T20:58:04.274439Z",
     "start_time": "2022-06-10T20:58:02.940111Z"
    },
    "hidden": true,
    "scrolled": false
   },
   "outputs": [],
   "source": []
  },
  {
   "cell_type": "markdown",
   "id": "ddb78c6f",
   "metadata": {},
   "source": [
    "# 2 Feature engineering"
   ]
  },
  {
   "cell_type": "code",
   "execution_count": 14,
   "id": "236fcc74",
   "metadata": {
    "ExecuteTime": {
     "end_time": "2022-11-06T23:32:12.478775Z",
     "start_time": "2022-11-06T23:32:12.410001Z"
    }
   },
   "outputs": [],
   "source": [
    "df2 = df1.copy()"
   ]
  },
  {
   "cell_type": "markdown",
   "id": "5d88d7e4",
   "metadata": {
    "heading_collapsed": true
   },
   "source": [
    "## 2.1 Mapa Mental de hipóteses"
   ]
  },
  {
   "cell_type": "code",
   "execution_count": null,
   "id": "4e1b61b7",
   "metadata": {
    "ExecuteTime": {
     "end_time": "2022-06-10T20:58:04.711076Z",
     "start_time": "2022-06-10T20:58:04.353159Z"
    },
    "hidden": true
   },
   "outputs": [],
   "source": [
    "Image(\"../images/\")"
   ]
  },
  {
   "cell_type": "markdown",
   "id": "82a3db3b",
   "metadata": {
    "ExecuteTime": {
     "end_time": "2022-05-30T22:20:26.848142Z",
     "start_time": "2022-05-30T22:20:26.839756Z"
    },
    "heading_collapsed": true
   },
   "source": [
    "## 2.2 Criação das hipóteses"
   ]
  },
  {
   "cell_type": "code",
   "execution_count": null,
   "id": "1a6f1515",
   "metadata": {
    "hidden": true
   },
   "outputs": [],
   "source": []
  },
  {
   "cell_type": "markdown",
   "id": "e1958421",
   "metadata": {
    "heading_collapsed": true
   },
   "source": [
    "## 2.3 Lista final de hipóteses"
   ]
  },
  {
   "cell_type": "code",
   "execution_count": null,
   "id": "723ee26c",
   "metadata": {
    "hidden": true
   },
   "outputs": [],
   "source": []
  },
  {
   "cell_type": "markdown",
   "id": "e748c65b",
   "metadata": {},
   "source": [
    "## 2.4 Criação de novas variáveis"
   ]
  },
  {
   "cell_type": "code",
   "execution_count": 15,
   "id": "d65dc5ca",
   "metadata": {
    "ExecuteTime": {
     "end_time": "2022-11-06T23:32:15.964786Z",
     "start_time": "2022-11-06T23:32:15.587755Z"
    }
   },
   "outputs": [],
   "source": [
    "# df de referência \n",
    "df_ref = df2[['customer_id']].drop_duplicates(ignore_index=True)\n",
    "\n",
    "# revenue = quantity * price\n",
    "df2['revenue'] = df2['quantity'] * df2['unit_price']\n",
    "\n",
    "# monetary\n",
    "df_monetary = df2.groupby('customer_id')['revenue'].sum().reset_index()\n",
    "\n",
    "# recency\n",
    "df_recency = df2.groupby('customer_id')['invoice_date'].max().reset_index()\n",
    "df_recency['recency_days'] = (df2['invoice_date'].max() - df_recency['invoice_date']).dt.days\n",
    "\n",
    "# frequency\n",
    "df_frequency = df2.groupby('customer_id')['invoice_no'].nunique().reset_index()\n",
    "\n",
    "# join\n",
    "c_id = 'customer_id'\n",
    "df_ref = df_ref.merge(df_monetary, on=c_id, how='left').merge(df_recency, on=c_id, how='left').merge(df_frequency, on=c_id, how='left')"
   ]
  },
  {
   "cell_type": "code",
   "execution_count": 16,
   "id": "4214250a",
   "metadata": {
    "ExecuteTime": {
     "end_time": "2022-11-06T23:32:19.815939Z",
     "start_time": "2022-11-06T23:32:19.790940Z"
    },
    "scrolled": false
   },
   "outputs": [
    {
     "data": {
      "text/html": [
       "<div>\n",
       "<style scoped>\n",
       "    .dataframe tbody tr th:only-of-type {\n",
       "        vertical-align: middle;\n",
       "    }\n",
       "\n",
       "    .dataframe tbody tr th {\n",
       "        vertical-align: top;\n",
       "    }\n",
       "\n",
       "    .dataframe thead th {\n",
       "        text-align: right;\n",
       "    }\n",
       "</style>\n",
       "<table border=\"1\" class=\"dataframe\">\n",
       "  <thead>\n",
       "    <tr style=\"text-align: right;\">\n",
       "      <th></th>\n",
       "      <th>0</th>\n",
       "      <th>1</th>\n",
       "      <th>2</th>\n",
       "      <th>3</th>\n",
       "      <th>4</th>\n",
       "    </tr>\n",
       "  </thead>\n",
       "  <tbody>\n",
       "    <tr>\n",
       "      <th>customer_id</th>\n",
       "      <td>17850</td>\n",
       "      <td>13047</td>\n",
       "      <td>12583</td>\n",
       "      <td>13748</td>\n",
       "      <td>15100</td>\n",
       "    </tr>\n",
       "    <tr>\n",
       "      <th>revenue</th>\n",
       "      <td>5288.63</td>\n",
       "      <td>3079.1</td>\n",
       "      <td>7187.34</td>\n",
       "      <td>948.25</td>\n",
       "      <td>635.1</td>\n",
       "    </tr>\n",
       "    <tr>\n",
       "      <th>invoice_date</th>\n",
       "      <td>2011-02-10 00:00:00</td>\n",
       "      <td>2011-11-08 00:00:00</td>\n",
       "      <td>2011-12-07 00:00:00</td>\n",
       "      <td>2011-09-05 00:00:00</td>\n",
       "      <td>2011-01-13 00:00:00</td>\n",
       "    </tr>\n",
       "    <tr>\n",
       "      <th>recency_days</th>\n",
       "      <td>302</td>\n",
       "      <td>31</td>\n",
       "      <td>2</td>\n",
       "      <td>95</td>\n",
       "      <td>330</td>\n",
       "    </tr>\n",
       "    <tr>\n",
       "      <th>invoice_no</th>\n",
       "      <td>35</td>\n",
       "      <td>18</td>\n",
       "      <td>18</td>\n",
       "      <td>5</td>\n",
       "      <td>6</td>\n",
       "    </tr>\n",
       "  </tbody>\n",
       "</table>\n",
       "</div>"
      ],
      "text/plain": [
       "                                0                    1                    2                    3                    4\n",
       "customer_id                 17850                13047                12583                13748                15100\n",
       "revenue                   5288.63               3079.1              7187.34               948.25                635.1\n",
       "invoice_date  2011-02-10 00:00:00  2011-11-08 00:00:00  2011-12-07 00:00:00  2011-09-05 00:00:00  2011-01-13 00:00:00\n",
       "recency_days                  302                   31                    2                   95                  330\n",
       "invoice_no                     35                   18                   18                    5                    6"
      ]
     },
     "execution_count": 16,
     "metadata": {},
     "output_type": "execute_result"
    }
   ],
   "source": [
    "df_ref.head().T"
   ]
  },
  {
   "cell_type": "markdown",
   "id": "88b51e37",
   "metadata": {},
   "source": [
    "# 3 Filtragem dos dados"
   ]
  },
  {
   "cell_type": "code",
   "execution_count": 17,
   "id": "518c0947",
   "metadata": {
    "ExecuteTime": {
     "end_time": "2022-11-06T23:32:34.391855Z",
     "start_time": "2022-11-06T23:32:34.379769Z"
    }
   },
   "outputs": [],
   "source": [
    "df3 = df_ref.copy()"
   ]
  },
  {
   "cell_type": "markdown",
   "id": "7a623aa8",
   "metadata": {
    "heading_collapsed": true
   },
   "source": [
    "## 3.1 Filtragem das linhas"
   ]
  },
  {
   "cell_type": "code",
   "execution_count": null,
   "id": "b31a0143",
   "metadata": {
    "ExecuteTime": {
     "end_time": "2022-06-10T20:59:06.579350Z",
     "start_time": "2022-06-10T20:59:06.363923Z"
    },
    "hidden": true
   },
   "outputs": [],
   "source": []
  },
  {
   "cell_type": "markdown",
   "id": "2577d5ff",
   "metadata": {
    "heading_collapsed": true
   },
   "source": [
    "## 3.2 Filtragem das colunas"
   ]
  },
  {
   "cell_type": "code",
   "execution_count": null,
   "id": "fbaa8ee7",
   "metadata": {
    "ExecuteTime": {
     "end_time": "2022-06-10T20:59:06.720751Z",
     "start_time": "2022-06-10T20:59:06.591293Z"
    },
    "hidden": true
   },
   "outputs": [],
   "source": []
  },
  {
   "cell_type": "markdown",
   "id": "17f1ac89",
   "metadata": {},
   "source": [
    "# 4. Análise exploratória de dados (EDA)"
   ]
  },
  {
   "cell_type": "code",
   "execution_count": 18,
   "id": "0c576477",
   "metadata": {
    "ExecuteTime": {
     "end_time": "2022-11-06T23:32:37.010619Z",
     "start_time": "2022-11-06T23:32:37.001448Z"
    }
   },
   "outputs": [],
   "source": [
    "df4 = df3.copy()"
   ]
  },
  {
   "cell_type": "code",
   "execution_count": null,
   "id": "1dfc9719",
   "metadata": {
    "ExecuteTime": {
     "end_time": "2022-06-10T20:59:06.942857Z",
     "start_time": "2022-06-10T20:59:06.818293Z"
    }
   },
   "outputs": [],
   "source": [
    "num_attributes = df4.select_dtypes(include=['int64', 'float64'])\n",
    "cat_attributes = df4.select_dtypes(exclude=['int64', 'float64', 'datetime64[ns]'])"
   ]
  },
  {
   "cell_type": "markdown",
   "id": "f6a0e0fc",
   "metadata": {
    "heading_collapsed": true
   },
   "source": [
    "## 4.1 Análise univariada"
   ]
  },
  {
   "cell_type": "markdown",
   "id": "df63a991",
   "metadata": {
    "ExecuteTime": {
     "end_time": "2022-05-31T20:44:33.976764Z",
     "start_time": "2022-05-31T20:44:33.962652Z"
    },
    "heading_collapsed": true,
    "hidden": true
   },
   "source": [
    "### 4.1.1 Variável resposta"
   ]
  },
  {
   "cell_type": "code",
   "execution_count": null,
   "id": "7d3be18e",
   "metadata": {
    "ExecuteTime": {
     "end_time": "2022-06-10T20:59:12.390272Z",
     "start_time": "2022-06-10T20:59:06.945339Z"
    },
    "hidden": true
   },
   "outputs": [],
   "source": []
  },
  {
   "cell_type": "markdown",
   "id": "842b36e2",
   "metadata": {
    "ExecuteTime": {
     "end_time": "2022-05-31T20:44:33.976764Z",
     "start_time": "2022-05-31T20:44:33.962652Z"
    },
    "heading_collapsed": true,
    "hidden": true
   },
   "source": [
    "### 4.1.2 Variáveis numéricas"
   ]
  },
  {
   "cell_type": "code",
   "execution_count": null,
   "id": "eb1c321e",
   "metadata": {
    "ExecuteTime": {
     "end_time": "2022-06-10T20:59:16.545050Z",
     "start_time": "2022-06-10T20:59:12.391269Z"
    },
    "hidden": true
   },
   "outputs": [],
   "source": []
  },
  {
   "cell_type": "markdown",
   "id": "2ff710f3",
   "metadata": {
    "ExecuteTime": {
     "end_time": "2022-05-31T20:44:33.976764Z",
     "start_time": "2022-05-31T20:44:33.962652Z"
    },
    "hidden": true
   },
   "source": [
    "### 4.1.3 Variável categóricas"
   ]
  },
  {
   "cell_type": "code",
   "execution_count": null,
   "id": "9c7d9958",
   "metadata": {
    "ExecuteTime": {
     "end_time": "2022-06-10T20:59:40.609474Z",
     "start_time": "2022-06-10T20:59:16.547045Z"
    },
    "hidden": true
   },
   "outputs": [],
   "source": []
  },
  {
   "cell_type": "markdown",
   "id": "43322fbb",
   "metadata": {
    "heading_collapsed": true
   },
   "source": [
    "## 4.2 Análise bivariada"
   ]
  },
  {
   "cell_type": "markdown",
   "id": "a8d46eb3",
   "metadata": {
    "ExecuteTime": {
     "end_time": "2022-05-30T22:34:11.246191Z",
     "start_time": "2022-05-30T22:34:11.240241Z"
    },
    "hidden": true
   },
   "source": [
    "### Hn: \n",
    "**VERDADEIRA/FALSA**"
   ]
  },
  {
   "cell_type": "code",
   "execution_count": null,
   "id": "be00032a",
   "metadata": {
    "hidden": true
   },
   "outputs": [],
   "source": []
  },
  {
   "cell_type": "markdown",
   "id": "0b3b1d0a",
   "metadata": {
    "hidden": true
   },
   "source": [
    "### 4.2.1 Resumo das hipóteses"
   ]
  },
  {
   "cell_type": "code",
   "execution_count": null,
   "id": "003de512",
   "metadata": {
    "ExecuteTime": {
     "end_time": "2022-06-10T21:00:05.087047Z",
     "start_time": "2022-06-10T21:00:05.075053Z"
    },
    "hidden": true
   },
   "outputs": [],
   "source": [
    "tab =[['Hipoteses', 'Conclusao', 'Relevancia'],\n",
    "      ['H1', 'Falsa', 'Baixa'],  \n",
    "      ['H2', 'Falsa', 'Media'],  \n",
    "      ['H3', 'Falsa', 'Media'],\n",
    "      ['H4', 'Falsa', 'Baixa'],\n",
    "      ['H5', '-', '-'],\n",
    "      ['H6', 'Falsa', 'Baixa'],\n",
    "      ['H7', 'Falsa', 'Media'],\n",
    "      ['H8', 'Falsa', 'Alta'],\n",
    "      ['H9', 'Falsa', 'Alta'],\n",
    "      ['H10', 'Verdadeira', 'Alta'],\n",
    "      ['H11', 'Verdadeira', 'Alta'],\n",
    "      ['H12', 'Verdadeira', 'Baixa'],\n",
    "     ]  \n",
    "print(tabulate( tab, headers='firstrow'))"
   ]
  },
  {
   "cell_type": "markdown",
   "id": "bb50f71b",
   "metadata": {
    "heading_collapsed": true
   },
   "source": [
    "## 4.3 Análise multivariada"
   ]
  },
  {
   "cell_type": "markdown",
   "id": "adf5ddba",
   "metadata": {
    "hidden": true
   },
   "source": [
    "### 4.3.1 Variáveis númericas"
   ]
  },
  {
   "cell_type": "code",
   "execution_count": null,
   "id": "7a22ffbc",
   "metadata": {
    "ExecuteTime": {
     "end_time": "2022-06-10T21:00:07.181788Z",
     "start_time": "2022-06-10T21:00:05.089014Z"
    },
    "hidden": true
   },
   "outputs": [],
   "source": []
  },
  {
   "cell_type": "markdown",
   "id": "43b1b375",
   "metadata": {
    "heading_collapsed": true,
    "hidden": true
   },
   "source": [
    "### 4.3.2 Variáveis categóricas"
   ]
  },
  {
   "cell_type": "code",
   "execution_count": null,
   "id": "e6dc33a7",
   "metadata": {
    "ExecuteTime": {
     "end_time": "2022-06-10T21:00:08.905947Z",
     "start_time": "2022-06-10T21:00:07.183796Z"
    },
    "hidden": true
   },
   "outputs": [],
   "source": []
  },
  {
   "cell_type": "markdown",
   "id": "87f3423f",
   "metadata": {},
   "source": [
    "# 5 Preparação dos dados"
   ]
  },
  {
   "cell_type": "code",
   "execution_count": 19,
   "id": "21e4ce0e",
   "metadata": {
    "ExecuteTime": {
     "end_time": "2022-11-06T23:32:39.607603Z",
     "start_time": "2022-11-06T23:32:39.588193Z"
    }
   },
   "outputs": [],
   "source": [
    "df5 = df4.copy()"
   ]
  },
  {
   "cell_type": "markdown",
   "id": "b86fa0d6",
   "metadata": {
    "heading_collapsed": true
   },
   "source": [
    "## 5.1 Normalização"
   ]
  },
  {
   "cell_type": "code",
   "execution_count": null,
   "id": "b1a87371",
   "metadata": {
    "hidden": true
   },
   "outputs": [],
   "source": []
  },
  {
   "cell_type": "markdown",
   "id": "3b881410",
   "metadata": {
    "heading_collapsed": true
   },
   "source": [
    "## 5.2 Rescaling"
   ]
  },
  {
   "cell_type": "code",
   "execution_count": null,
   "id": "106a9f9b",
   "metadata": {
    "ExecuteTime": {
     "end_time": "2022-06-13T12:21:07.897330Z",
     "start_time": "2022-06-13T12:21:07.262928Z"
    },
    "hidden": true
   },
   "outputs": [],
   "source": []
  },
  {
   "cell_type": "markdown",
   "id": "3d7fe180",
   "metadata": {
    "heading_collapsed": true
   },
   "source": [
    "## 5.3 Transformação"
   ]
  },
  {
   "cell_type": "markdown",
   "id": "c0a23fbf",
   "metadata": {
    "hidden": true
   },
   "source": [
    "### 5.3.1 Encoding"
   ]
  },
  {
   "cell_type": "code",
   "execution_count": null,
   "id": "59ac8118",
   "metadata": {
    "ExecuteTime": {
     "end_time": "2022-06-13T12:22:47.936939Z",
     "start_time": "2022-06-13T12:22:47.915573Z"
    },
    "hidden": true
   },
   "outputs": [],
   "source": []
  },
  {
   "cell_type": "markdown",
   "id": "02437291",
   "metadata": {
    "hidden": true
   },
   "source": [
    "### 5.3.2 Transformação da variável resposta"
   ]
  },
  {
   "cell_type": "code",
   "execution_count": null,
   "id": "e65f84c6",
   "metadata": {
    "ExecuteTime": {
     "end_time": "2022-06-10T21:00:09.999714Z",
     "start_time": "2022-06-10T21:00:09.955831Z"
    },
    "hidden": true
   },
   "outputs": [],
   "source": []
  },
  {
   "cell_type": "markdown",
   "id": "bf0e358c",
   "metadata": {
    "heading_collapsed": true,
    "hidden": true
   },
   "source": [
    "### 5.3.3 Transformação de natureza"
   ]
  },
  {
   "cell_type": "code",
   "execution_count": null,
   "id": "4df82f57",
   "metadata": {
    "ExecuteTime": {
     "end_time": "2022-06-10T21:00:18.034397Z",
     "start_time": "2022-06-10T21:00:10.001708Z"
    },
    "hidden": true
   },
   "outputs": [],
   "source": []
  },
  {
   "cell_type": "markdown",
   "id": "8ad24b4c",
   "metadata": {},
   "source": [
    "# 6 Seleção de variáveis"
   ]
  },
  {
   "cell_type": "code",
   "execution_count": 20,
   "id": "5bc0eeed",
   "metadata": {
    "ExecuteTime": {
     "end_time": "2022-11-06T23:32:44.273125Z",
     "start_time": "2022-11-06T23:32:44.259819Z"
    }
   },
   "outputs": [],
   "source": [
    "df6 = df5.copy()"
   ]
  },
  {
   "cell_type": "markdown",
   "id": "7e857893",
   "metadata": {
    "heading_collapsed": true
   },
   "source": [
    "## 6.1 Separação do conjunto de dados em treino e teste"
   ]
  },
  {
   "cell_type": "code",
   "execution_count": null,
   "id": "d5e0d0c4",
   "metadata": {
    "ExecuteTime": {
     "end_time": "2022-06-10T21:00:18.377232Z",
     "start_time": "2022-06-10T21:00:18.259015Z"
    },
    "hidden": true
   },
   "outputs": [],
   "source": []
  },
  {
   "cell_type": "markdown",
   "id": "83b8a529",
   "metadata": {
    "heading_collapsed": true
   },
   "source": [
    "## 6.2 Feature selector"
   ]
  },
  {
   "cell_type": "code",
   "execution_count": null,
   "id": "767e7b7e",
   "metadata": {
    "ExecuteTime": {
     "end_time": "2022-06-10T21:00:18.558292Z",
     "start_time": "2022-06-10T21:00:18.536544Z"
    },
    "hidden": true
   },
   "outputs": [],
   "source": []
  },
  {
   "cell_type": "markdown",
   "id": "3705d684",
   "metadata": {
    "heading_collapsed": true
   },
   "source": [
    "## 6.3 Seleção de variáveis manual após feature selector"
   ]
  },
  {
   "cell_type": "code",
   "execution_count": null,
   "id": "47bdf2cc",
   "metadata": {
    "ExecuteTime": {
     "end_time": "2022-06-10T21:00:18.611307Z",
     "start_time": "2022-06-10T21:00:18.586924Z"
    },
    "hidden": true
   },
   "outputs": [],
   "source": []
  },
  {
   "cell_type": "markdown",
   "id": "e53791df",
   "metadata": {},
   "source": [
    "# 7 Otimização dos hiperparâmetros"
   ]
  },
  {
   "cell_type": "code",
   "execution_count": 24,
   "id": "a45f7c9a",
   "metadata": {
    "ExecuteTime": {
     "end_time": "2022-11-06T23:36:19.302807Z",
     "start_time": "2022-11-06T23:36:19.289171Z"
    }
   },
   "outputs": [],
   "source": [
    "df7 = df6.copy()"
   ]
  },
  {
   "cell_type": "code",
   "execution_count": 25,
   "id": "7cbba647",
   "metadata": {
    "ExecuteTime": {
     "end_time": "2022-11-06T23:36:31.661150Z",
     "start_time": "2022-11-06T23:36:31.642567Z"
    }
   },
   "outputs": [],
   "source": [
    "X = df7[['revenue', 'recency_days', 'invoice_no']]"
   ]
  },
  {
   "cell_type": "code",
   "execution_count": 51,
   "id": "9da50eb9",
   "metadata": {
    "ExecuteTime": {
     "end_time": "2022-11-06T23:56:46.458635Z",
     "start_time": "2022-11-06T23:56:46.450364Z"
    }
   },
   "outputs": [],
   "source": [
    "clusters = [2, 3, 4, 5, 6]"
   ]
  },
  {
   "cell_type": "markdown",
   "id": "22b72c7a",
   "metadata": {},
   "source": [
    "## 7.1 Within-Cluster Sum of Square (WSS)"
   ]
  },
  {
   "cell_type": "code",
   "execution_count": 60,
   "id": "b573ab4e",
   "metadata": {
    "ExecuteTime": {
     "end_time": "2022-11-06T23:59:20.803008Z",
     "start_time": "2022-11-06T23:59:19.587724Z"
    },
    "scrolled": false
   },
   "outputs": [
    {
     "data": {
      "image/png": "[encoded data removed]",
      "text/plain": [
       "<Figure size 1400x500 with 1 Axes>"
      ]
     },
     "metadata": {},
     "output_type": "display_data"
    }
   ],
   "source": [
    "wss = []\n",
    "for k in clusters:\n",
    "    #model definition\n",
    "    kmeans = KMeans(init='random', n_clusters=k, n_init=10, max_iter=300, random_state=42)\n",
    "    \n",
    "    #model training\n",
    "    kmeans.fit(X)\n",
    "    \n",
    "    #validation\n",
    "    wss.append(kmeans.inertia_)\n",
    "    \n",
    "plt.plot(clusters, wss, linestyle='--', marker='o', color='b')\n",
    "plt.xlabel('K')\n",
    "plt.ylabel('WSS')\n",
    "plt.title('WSS vs K')\n",
    "plt.show()"
   ]
  },
  {
   "cell_type": "code",
   "execution_count": 61,
   "id": "b8525efb",
   "metadata": {
    "ExecuteTime": {
     "end_time": "2022-11-06T23:59:29.584421Z",
     "start_time": "2022-11-06T23:59:28.069892Z"
    }
   },
   "outputs": [
    {
     "data": {
      "image/png": "[encoded data removed]",
      "text/plain": [
       "<Figure size 1400x500 with 1 Axes>"
      ]
     },
     "metadata": {},
     "output_type": "display_data"
    },
    {
     "data": {
      "text/plain": [
       "<AxesSubplot: title={'center': 'Distortion Score Elbow for KMeans Clustering'}, xlabel='k', ylabel='distortion score'>"
      ]
     },
     "execution_count": 61,
     "metadata": {},
     "output_type": "execute_result"
    }
   ],
   "source": [
    "kmeans = KElbowVisualizer(KMeans(init='random', n_clusters=k, n_init=10, max_iter=300, random_state=42), k=clusters, timings=False)\n",
    "kmeans.fit(X)\n",
    "kmeans.show()"
   ]
  },
  {
   "cell_type": "markdown",
   "id": "8cf4668b",
   "metadata": {
    "heading_collapsed": true
   },
   "source": [
    "# 8 Machine learning"
   ]
  },
  {
   "cell_type": "markdown",
   "id": "3793d6bb",
   "metadata": {
    "hidden": true
   },
   "source": [
    "## 8.1 Método otimizador"
   ]
  },
  {
   "cell_type": "code",
   "execution_count": null,
   "id": "5a8a768a",
   "metadata": {
    "ExecuteTime": {
     "end_time": "2022-06-09T19:38:21.607778Z",
     "start_time": "2022-06-09T19:38:21.574382Z"
    },
    "hidden": true
   },
   "outputs": [],
   "source": []
  },
  {
   "cell_type": "markdown",
   "id": "11476303",
   "metadata": {
    "hidden": true
   },
   "source": [
    "## 8.2 Modelo final tunado"
   ]
  },
  {
   "cell_type": "code",
   "execution_count": null,
   "id": "7cca6a34",
   "metadata": {
    "ExecuteTime": {
     "end_time": "2022-06-10T21:02:00.500816Z",
     "start_time": "2022-06-10T21:02:00.485442Z"
    },
    "hidden": true
   },
   "outputs": [],
   "source": []
  },
  {
   "cell_type": "markdown",
   "id": "de247ca0",
   "metadata": {
    "hidden": true
   },
   "source": [
    "Tempo de execução: 1h09"
   ]
  },
  {
   "cell_type": "markdown",
   "id": "3866d5bc",
   "metadata": {
    "heading_collapsed": true
   },
   "source": [
    "# 9 Análise dos clusters"
   ]
  },
  {
   "cell_type": "code",
   "execution_count": null,
   "id": "32b165cf",
   "metadata": {
    "ExecuteTime": {
     "end_time": "2022-06-11T18:59:06.946348Z",
     "start_time": "2022-06-11T18:59:06.800502Z"
    },
    "hidden": true
   },
   "outputs": [],
   "source": []
  },
  {
   "cell_type": "markdown",
   "id": "3bd5fb63",
   "metadata": {
    "heading_collapsed": true,
    "hidden": true
   },
   "source": [
    "## 9.1 Performance do negócio"
   ]
  },
  {
   "cell_type": "code",
   "execution_count": null,
   "id": "4aa6ec5e",
   "metadata": {
    "ExecuteTime": {
     "end_time": "2022-06-11T19:30:23.557524Z",
     "start_time": "2022-06-11T19:30:22.790473Z"
    },
    "hidden": true
   },
   "outputs": [],
   "source": []
  },
  {
   "cell_type": "markdown",
   "id": "9d28f875",
   "metadata": {
    "heading_collapsed": true
   },
   "source": [
    "# 10 Deployment do modelo em produção"
   ]
  },
  {
   "cell_type": "code",
   "execution_count": null,
   "id": "fe1a038c",
   "metadata": {
    "ExecuteTime": {
     "end_time": "2022-06-13T12:06:30.330230Z",
     "start_time": "2022-06-13T12:06:28.022710Z"
    },
    "hidden": true
   },
   "outputs": [],
   "source": [
    "# Save Trained Model\n"
   ]
  },
  {
   "cell_type": "markdown",
   "id": "c21f7706",
   "metadata": {
    "heading_collapsed": true,
    "hidden": true
   },
   "source": [
    "## 10.1 Model class"
   ]
  },
  {
   "cell_type": "code",
   "execution_count": null,
   "id": "4dc39316",
   "metadata": {
    "ExecuteTime": {
     "end_time": "2022-06-13T14:23:41.537029Z",
     "start_time": "2022-06-13T14:23:41.494113Z"
    },
    "hidden": true
   },
   "outputs": [],
   "source": [
    "                              "
   ]
  },
  {
   "cell_type": "markdown",
   "id": "4f17feb3",
   "metadata": {
    "heading_collapsed": true,
    "hidden": true
   },
   "source": [
    "## 10.2 API handler"
   ]
  },
  {
   "cell_type": "code",
   "execution_count": null,
   "id": "ebb4acbc",
   "metadata": {
    "ExecuteTime": {
     "end_time": "2022-06-13T14:23:33.669234Z",
     "start_time": "2022-06-13T14:23:33.466242Z"
    },
    "hidden": true
   },
   "outputs": [],
   "source": []
  },
  {
   "cell_type": "markdown",
   "id": "b972c36a",
   "metadata": {
    "heading_collapsed": true,
    "hidden": true
   },
   "source": [
    "## 10.3 API tester"
   ]
  },
  {
   "cell_type": "code",
   "execution_count": null,
   "id": "0508be38",
   "metadata": {
    "ExecuteTime": {
     "end_time": "2022-06-13T20:50:44.263240Z",
     "start_time": "2022-06-13T20:50:44.196138Z"
    },
    "hidden": true
   },
   "outputs": [],
   "source": []
  }
 ],
 "metadata": {
  "kernelspec": {
   "display_name": "Python 3 (ipykernel)",
   "language": "python",
   "name": "python3"
  },
  "language_info": {
   "codemirror_mode": {
    "name": "ipython",
    "version": 3
   },
   "file_extension": ".py",
   "mimetype": "text/x-python",
   "name": "python",
   "nbconvert_exporter": "python",
   "pygments_lexer": "ipython3",
   "version": "3.10.6"
  },
  "varInspector": {
   "cols": {
    "lenName": 16,
    "lenType": 16,
    "lenVar": 40
   },
   "kernels_config": {
    "python": {
     "delete_cmd_postfix": "",
     "delete_cmd_prefix": "del ",
     "library": "var_list.py",
     "varRefreshCmd": "print(var_dic_list())"
    },
    "r": {
     "delete_cmd_postfix": ") ",
     "delete_cmd_prefix": "rm(",
     "library": "var_list.r",
     "varRefreshCmd": "cat(var_dic_list()) "
    }
   },
   "types_to_exclude": [
    "module",
    "function",
    "builtin_function_or_method",
    "instance",
    "_Feature"
   ],
   "window_display": false
  }
 },
 "nbformat": 4,
 "nbformat_minor": 5
}
